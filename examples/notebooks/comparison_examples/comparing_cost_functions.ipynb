{
 "cells": [
  {
   "cell_type": "markdown",
   "metadata": {},
   "source": [
    "## Investigating different cost functions\n",
    "\n",
    "In this notebook, we take a look at the different fitting cost functions offered in PyBOP. Cost functions for fitting problems conventionally describe the distance between two points (the target and the prediction) which is to be minimised via PyBOP's optimisation algorithms. \n",
    "\n",
    "First, we install and import the required packages below."
   ]
  },
  {
   "cell_type": "code",
   "execution_count": null,
   "metadata": {},
   "outputs": [
    {
     "name": "stdout",
     "output_type": "stream",
     "text": [
      "/Users/engs2510/Documents/Git/PyBOP/.venv/bin/python: No module named pip\r\n",
      "Note: you may need to restart the kernel to use updated packages.\n",
      "/Users/engs2510/Documents/Git/PyBOP/.venv/bin/python: No module named pip\r\n",
      "Note: you may need to restart the kernel to use updated packages.\n"
     ]
    }
   ],
   "source": [
    "%pip install --upgrade pip ipywidgets -q\n",
    "%pip install pybop -q\n",
    "\n",
    "import numpy as np\n",
    "import pybamm\n",
    "\n",
    "import pybop\n",
    "\n",
    "go = pybop.plot.PlotlyManager().go\n",
    "pybop.plot.PlotlyManager().pio.renderers.default = \"notebook_connected\""
   ]
  },
  {
   "cell_type": "markdown",
   "metadata": {},
   "source": [
    "Let's fix the random seed in order to generate consistent output during development, although this does not need to be done in practice."
   ]
  },
  {
   "cell_type": "code",
   "execution_count": null,
   "metadata": {},
   "outputs": [],
   "source": [
    "np.random.seed(8)"
   ]
  },
  {
   "cell_type": "markdown",
   "metadata": {},
   "source": [
    "For this notebook, we need to construct parameters, a model and a problem class before we can compare differing cost functions. We start with two parameters, but this is an arbitrary selection and can be expanded given the model and data in question."
   ]
  },
  {
   "cell_type": "code",
   "execution_count": null,
   "metadata": {},
   "outputs": [],
   "source": [
    "parameters = pybop.Parameters(\n",
    "    pybop.Parameter(\n",
    "        \"Positive electrode thickness [m]\",\n",
    "        prior=pybop.Gaussian(7.56e-05, 0.5e-05),\n",
    "        bounds=[65e-06, 10e-05],\n",
    "    ),\n",
    "    pybop.Parameter(\n",
    "        \"Positive particle radius [m]\",\n",
    "        prior=pybop.Gaussian(5.22e-06, 0.5e-06),\n",
    "        bounds=[2e-06, 9e-06],\n",
    "    ),\n",
    ")"
   ]
  },
  {
   "cell_type": "markdown",
   "metadata": {},
   "source": [
    "Next, we will construct the Single Particle Model (SPM) with the Chen2020 parameter set, but like the above, this is an arbitrary selection and can be replaced with any PyBOP model."
   ]
  },
  {
   "cell_type": "code",
   "execution_count": null,
   "metadata": {},
   "outputs": [],
   "source": [
    "parameter_set = pybop.ParameterSet(\"Chen2020\")\n",
    "solver = pybamm.IDAKLUSolver()\n",
    "model = pybop.lithium_ion.SPM(parameter_set=parameter_set, solver=solver)"
   ]
  },
  {
   "cell_type": "markdown",
   "metadata": {},
   "source": [
    "Next, as we will need reference data to compare our model predictions to (via the cost function), we will create synthetic data from the model constructed above. "
   ]
  },
  {
   "cell_type": "code",
   "execution_count": null,
   "metadata": {},
   "outputs": [],
   "source": [
    "t_eval = np.arange(0, 300, 20)\n",
    "values = model.predict(t_eval=t_eval)"
   ]
  },
  {
   "cell_type": "markdown",
   "metadata": {},
   "source": [
    "We can then construct the PyBOP dataset class with the synthetic data as,"
   ]
  },
  {
   "cell_type": "code",
   "execution_count": null,
   "metadata": {},
   "outputs": [],
   "source": [
    "dataset = pybop.Dataset(\n",
    "    {\n",
    "        \"Time [s]\": t_eval,\n",
    "        \"Current function [A]\": values[\"Current [A]\"].data,\n",
    "        \"Voltage [V]\": values[\"Voltage [V]\"].data,\n",
    "    }\n",
    ")"
   ]
  },
  {
   "cell_type": "markdown",
   "metadata": {},
   "source": [
    "Now, we can put this all together and construct the problem class. In this situation, we are going to compare differing fitting cost functions, so we construct the `FittingProblem`."
   ]
  },
  {
   "cell_type": "code",
   "execution_count": null,
   "metadata": {},
   "outputs": [],
   "source": [
    "problem = pybop.FittingProblem(model, parameters, dataset)"
   ]
  },
  {
   "cell_type": "markdown",
   "metadata": {},
   "source": [
    "### Sum of Squared Errors and Root Mean Squared Error\n",
    "\n",
    "First, let's start with two commonly-used cost functions: the sum of squared errors (SSE) and the root mean squared error (RMSE). Constructing these classes is very concise in PyBOP, and only requires the problem class."
   ]
  },
  {
   "cell_type": "code",
   "execution_count": null,
   "metadata": {},
   "outputs": [],
   "source": [
    "cost_SSE = pybop.SumSquaredError(problem)\n",
    "cost_RMSE = pybop.RootMeanSquaredError(problem)"
   ]
  },
  {
   "cell_type": "markdown",
   "metadata": {},
   "source": [
    "Now, we can investigate how these functions differ when fitting the parameters. To acquire the cost value for each of these, we can simply use the call method of the constructed class, such as:"
   ]
  },
  {
   "cell_type": "code",
   "execution_count": null,
   "metadata": {},
   "outputs": [
    {
     "data": {
      "text/plain": [
       "2.859620781426168e-29"
      ]
     },
     "execution_count": null,
     "metadata": {},
     "output_type": "execute_result"
    }
   ],
   "source": [
    "cost_SSE([7.56e-05, 5.22e-06])"
   ]
  },
  {
   "cell_type": "markdown",
   "metadata": {},
   "source": [
    "Alternatively, we can use the `Parameters` class for this,"
   ]
  },
  {
   "cell_type": "code",
   "execution_count": null,
   "metadata": {},
   "outputs": [
    {
     "name": "stdout",
     "output_type": "stream",
     "text": [
      "[7.56e-05 5.22e-06]\n"
     ]
    },
    {
     "data": {
      "text/plain": [
       "2.859620781426168e-29"
      ]
     },
     "execution_count": null,
     "metadata": {},
     "output_type": "execute_result"
    }
   ],
   "source": [
    "print(parameters.current_value())\n",
    "cost_SSE(parameters.current_value())"
   ]
  },
  {
   "cell_type": "markdown",
   "metadata": {},
   "source": [
    "If we want to generate a random sample of candidate solutions from the parameter class prior, we can also do that as:"
   ]
  },
  {
   "cell_type": "code",
   "execution_count": null,
   "metadata": {},
   "outputs": [
    {
     "name": "stdout",
     "output_type": "stream",
     "text": [
      "[6.58651485e-05 4.52682523e-06]\n"
     ]
    },
    {
     "data": {
      "text/plain": [
       "5.202990248387603e-05"
      ]
     },
     "execution_count": null,
     "metadata": {},
     "output_type": "execute_result"
    }
   ],
   "source": [
    "sample = parameters.rvs()\n",
    "print(sample)\n",
    "cost_SSE(sample)"
   ]
  },
  {
   "cell_type": "markdown",
   "metadata": {},
   "source": [
    "#### Comparing RMSE and SSE\n",
    "\n",
    "Now, let's vary one of the parameters, and keep a fixed value for the other, to create a scatter plot comparing the cost values for the RMSE and SSE functions."
   ]
  },
  {
   "cell_type": "code",
   "execution_count": null,
   "metadata": {},
   "outputs": [
    {
     "data": {
      "text/html": [
       "        <script type=\"text/javascript\">\n",
       "        window.PlotlyConfig = {MathJaxConfig: 'local'};\n",
       "        if (window.MathJax && window.MathJax.Hub && window.MathJax.Hub.Config) {window.MathJax.Hub.Config({SVG: {font: \"STIX-Web\"}});}\n",
       "        </script>\n",
       "        <script type=\"module\">import \"https://cdn.plot.ly/plotly-3.0.1.min\"</script>\n",
       "        "
      ]
     },
     "metadata": {},
     "output_type": "display_data"
    },
    {
     "data": {
      "text/html": [
       "<div>            <script src=\"https://cdnjs.cloudflare.com/ajax/libs/mathjax/2.7.5/MathJax.js?config=TeX-AMS-MML_SVG\"></script><script type=\"text/javascript\">if (window.MathJax && window.MathJax.Hub && window.MathJax.Hub.Config) {window.MathJax.Hub.Config({SVG: {font: \"STIX-Web\"}});}</script>                <script type=\"text/javascript\">window.PlotlyConfig = {MathJaxConfig: 'local'};</script>\n",
       "        <script charset=\"utf-8\" src=\"https://cdn.plot.ly/plotly-3.0.1.min.js\"></script>                <div id=\"40632b6b-6654-4aff-bef7-733eb62f5331\" class=\"plotly-graph-div\" style=\"height:525px; width:100%;\"></div>            <script type=\"text/javascript\">                window.PLOTLYENV=window.PLOTLYENV || {};                                if (document.getElementById(\"40632b6b-6654-4aff-bef7-733eb62f5331\")) {                    Plotly.newPlot(                        \"40632b6b-6654-4aff-bef7-733eb62f5331\",                        [{\"mode\":\"lines\",\"name\":\"SSE\",\"x\":{\"dtype\":\"f8\",\"bdata\":\"RcGEuA\\u002fM0z6qqVZ5+eHTPhCSKDrj99M+dXr6+swN1D7aYsy7tiPUPkBLnnygOdQ+pTNwPYpP1D4KHEL+c2XUPm8EFL9de9Q+1ezlf0eR1D461bdAMafUPp+9iQEbvdQ+BaZbwgTT1D5qji2D7ujUPs92\\u002f0PY\\u002ftQ+NV\\u002fRBMIU1T6aR6PFqyrVPv8vdYaVQNU+ZBhHR39W1T7KABkIaWzVPi\\u002fp6shSgtU+lNG8iTyY1T76uY5KJq7VPl+iYAsQxNU+xIoyzPnZ1T4qcwSN4+\\u002fVPo9b1k3NBdY+9EOoDrcb1j5aLHrPoDHWPr8UTJCKR9Y+JP0dUXRd1j6K5e8RXnPWPu\\u002fNwdJHidY+VLaTkzGf1j65nmVUG7XWPh+HNxUFy9Y+hG8J1u7g1j7pV9uW2PbWPk9ArVfCDNc+tCh\\u002fGKwi1z4ZEVHZlTjXPn75Ipp\\u002fTtc+5OH0Wmlk1z5JysYbU3rXPq6ymNw8kNc+FJtqnSam1z55gzxeELzXPt5rDh\\u002f60dc+RFTg3+Pn1z6pPLKgzf3XPg==\"},\"y\":[0.0005091965088676593,0.00047076940711665826,0.0004336651359000377,0.0003979063343565089,0.00036351591452914086,0.00033051704911235075,0.0002989331591867578,0.00026882877932563683,0.00024014374440747626,0.00021294532026837573,0.00018725779752316505,0.00016310565400660352,0.00014051354262854937,0.0001195062792781006,0.00010010883077476412,8.234630287494974e-05,6.624392834478907e-05,5.182705509810732e-05,3.912113441203972e-05,2.806749915996959e-05,1.887601613267725e-05,1.1471509484968709e-05,5.8797067492200605e-06,2.1263813266581513e-06,2.3734126621655455e-07,2.384181561372721e-07,2.1554561318868725e-06,6.014301005799613e-06,1.1840789522635539e-05,1.966073874490263e-05,2.9499935573191055e-05,4.1384126403196885e-05,5.533900692689857e-05,7.13902120762697e-05,8.956330611858263e-05,0.00010988377290203136,0.0001323770062573796,0.00015706830055818257,0.00018398284144055093,0.00021314569668827628,0.0002445818072820727,0.00027831597861894164,0.00031437287190098483,0.00035277699569566796,0.000393552697673758,0.0004367241565175198,0.0004823153740119955,0.0005303501673132962,0.0005808521613933574,0.0006338447816716728],\"type\":\"scatter\"},{\"mode\":\"lines\",\"name\":\"RMSE\",\"x\":{\"dtype\":\"f8\",\"bdata\":\"RcGEuA\\u002fM0z6qqVZ5+eHTPhCSKDrj99M+dXr6+swN1D7aYsy7tiPUPkBLnnygOdQ+pTNwPYpP1D4KHEL+c2XUPm8EFL9de9Q+1ezlf0eR1D461bdAMafUPp+9iQEbvdQ+BaZbwgTT1D5qji2D7ujUPs92\\u002f0PY\\u002ftQ+NV\\u002fRBMIU1T6aR6PFqyrVPv8vdYaVQNU+ZBhHR39W1T7KABkIaWzVPi\\u002fp6shSgtU+lNG8iTyY1T76uY5KJq7VPl+iYAsQxNU+xIoyzPnZ1T4qcwSN4+\\u002fVPo9b1k3NBdY+9EOoDrcb1j5aLHrPoDHWPr8UTJCKR9Y+JP0dUXRd1j6K5e8RXnPWPu\\u002fNwdJHidY+VLaTkzGf1j65nmVUG7XWPh+HNxUFy9Y+hG8J1u7g1j7pV9uW2PbWPk9ArVfCDNc+tCh\\u002fGKwi1z4ZEVHZlTjXPn75Ipp\\u002fTtc+5OH0Wmlk1z5JysYbU3rXPq6ymNw8kNc+FJtqnSam1z55gzxeELzXPt5rDh\\u002f60dc+RFTg3+Pn1z6pPLKgzf3XPg==\"},\"y\":[0.005826356831203409,0.005602198420362362,0.0053768958572769955,0.005150445510545723,0.004922844127325455,0.0046940888296690105,0.00446417711108298,0.004233428707526457,0.004001197690754409,0.0037678050220995222,0.003533249661177512,0.003297530934973454,0.0030606485437844637,0.0028226025730178003,0.002583393514672308,0.0023430223056976323,0.0021014903972306426,0.0018587998834033986,0.001614953753972328,0.0013679059217156125,0.001121784772365812,0.000874509747800397,0.0006260834209176953,0.00037650863882591513,0.00012578851728637093,0.0001260735648043824,0.0003790739709596596,0.0006332088126255358,0.0008884739546974366,0.0011448650210076478,0.00140237739982719,0.001661006249299841,0.0019207465029149227,0.0021815928748855303,0.002443539865558198,0.002706581766755888,0.0029707126671039683,0.00323592645732442,0.0035022168354776942,0.0037695773121865736,0.004038001215800318,0.004307481697534664,0.0045780117365583125,0.004849584145028437,0.005122191573104609,0.005395826513874835,0.005670481308272373,0.005946148149927515,0.006222819089948207,0.006500486041682692],\"type\":\"scatter\"}],                        {\"template\":{\"data\":{\"histogram2dcontour\":[{\"type\":\"histogram2dcontour\",\"colorbar\":{\"outlinewidth\":0,\"ticks\":\"\"},\"colorscale\":[[0.0,\"#0d0887\"],[0.1111111111111111,\"#46039f\"],[0.2222222222222222,\"#7201a8\"],[0.3333333333333333,\"#9c179e\"],[0.4444444444444444,\"#bd3786\"],[0.5555555555555556,\"#d8576b\"],[0.6666666666666666,\"#ed7953\"],[0.7777777777777778,\"#fb9f3a\"],[0.8888888888888888,\"#fdca26\"],[1.0,\"#f0f921\"]]}],\"choropleth\":[{\"type\":\"choropleth\",\"colorbar\":{\"outlinewidth\":0,\"ticks\":\"\"}}],\"histogram2d\":[{\"type\":\"histogram2d\",\"colorbar\":{\"outlinewidth\":0,\"ticks\":\"\"},\"colorscale\":[[0.0,\"#0d0887\"],[0.1111111111111111,\"#46039f\"],[0.2222222222222222,\"#7201a8\"],[0.3333333333333333,\"#9c179e\"],[0.4444444444444444,\"#bd3786\"],[0.5555555555555556,\"#d8576b\"],[0.6666666666666666,\"#ed7953\"],[0.7777777777777778,\"#fb9f3a\"],[0.8888888888888888,\"#fdca26\"],[1.0,\"#f0f921\"]]}],\"heatmap\":[{\"type\":\"heatmap\",\"colorbar\":{\"outlinewidth\":0,\"ticks\":\"\"},\"colorscale\":[[0.0,\"#0d0887\"],[0.1111111111111111,\"#46039f\"],[0.2222222222222222,\"#7201a8\"],[0.3333333333333333,\"#9c179e\"],[0.4444444444444444,\"#bd3786\"],[0.5555555555555556,\"#d8576b\"],[0.6666666666666666,\"#ed7953\"],[0.7777777777777778,\"#fb9f3a\"],[0.8888888888888888,\"#fdca26\"],[1.0,\"#f0f921\"]]}],\"contourcarpet\":[{\"type\":\"contourcarpet\",\"colorbar\":{\"outlinewidth\":0,\"ticks\":\"\"}}],\"contour\":[{\"type\":\"contour\",\"colorbar\":{\"outlinewidth\":0,\"ticks\":\"\"},\"colorscale\":[[0.0,\"#0d0887\"],[0.1111111111111111,\"#46039f\"],[0.2222222222222222,\"#7201a8\"],[0.3333333333333333,\"#9c179e\"],[0.4444444444444444,\"#bd3786\"],[0.5555555555555556,\"#d8576b\"],[0.6666666666666666,\"#ed7953\"],[0.7777777777777778,\"#fb9f3a\"],[0.8888888888888888,\"#fdca26\"],[1.0,\"#f0f921\"]]}],\"surface\":[{\"type\":\"surface\",\"colorbar\":{\"outlinewidth\":0,\"ticks\":\"\"},\"colorscale\":[[0.0,\"#0d0887\"],[0.1111111111111111,\"#46039f\"],[0.2222222222222222,\"#7201a8\"],[0.3333333333333333,\"#9c179e\"],[0.4444444444444444,\"#bd3786\"],[0.5555555555555556,\"#d8576b\"],[0.6666666666666666,\"#ed7953\"],[0.7777777777777778,\"#fb9f3a\"],[0.8888888888888888,\"#fdca26\"],[1.0,\"#f0f921\"]]}],\"mesh3d\":[{\"type\":\"mesh3d\",\"colorbar\":{\"outlinewidth\":0,\"ticks\":\"\"}}],\"scatter\":[{\"fillpattern\":{\"fillmode\":\"overlay\",\"size\":10,\"solidity\":0.2},\"type\":\"scatter\"}],\"parcoords\":[{\"type\":\"parcoords\",\"line\":{\"colorbar\":{\"outlinewidth\":0,\"ticks\":\"\"}}}],\"scatterpolargl\":[{\"type\":\"scatterpolargl\",\"marker\":{\"colorbar\":{\"outlinewidth\":0,\"ticks\":\"\"}}}],\"bar\":[{\"error_x\":{\"color\":\"#2a3f5f\"},\"error_y\":{\"color\":\"#2a3f5f\"},\"marker\":{\"line\":{\"color\":\"#E5ECF6\",\"width\":0.5},\"pattern\":{\"fillmode\":\"overlay\",\"size\":10,\"solidity\":0.2}},\"type\":\"bar\"}],\"scattergeo\":[{\"type\":\"scattergeo\",\"marker\":{\"colorbar\":{\"outlinewidth\":0,\"ticks\":\"\"}}}],\"scatterpolar\":[{\"type\":\"scatterpolar\",\"marker\":{\"colorbar\":{\"outlinewidth\":0,\"ticks\":\"\"}}}],\"histogram\":[{\"marker\":{\"pattern\":{\"fillmode\":\"overlay\",\"size\":10,\"solidity\":0.2}},\"type\":\"histogram\"}],\"scattergl\":[{\"type\":\"scattergl\",\"marker\":{\"colorbar\":{\"outlinewidth\":0,\"ticks\":\"\"}}}],\"scatter3d\":[{\"type\":\"scatter3d\",\"line\":{\"colorbar\":{\"outlinewidth\":0,\"ticks\":\"\"}},\"marker\":{\"colorbar\":{\"outlinewidth\":0,\"ticks\":\"\"}}}],\"scattermap\":[{\"type\":\"scattermap\",\"marker\":{\"colorbar\":{\"outlinewidth\":0,\"ticks\":\"\"}}}],\"scattermapbox\":[{\"type\":\"scattermapbox\",\"marker\":{\"colorbar\":{\"outlinewidth\":0,\"ticks\":\"\"}}}],\"scatterternary\":[{\"type\":\"scatterternary\",\"marker\":{\"colorbar\":{\"outlinewidth\":0,\"ticks\":\"\"}}}],\"scattercarpet\":[{\"type\":\"scattercarpet\",\"marker\":{\"colorbar\":{\"outlinewidth\":0,\"ticks\":\"\"}}}],\"carpet\":[{\"aaxis\":{\"endlinecolor\":\"#2a3f5f\",\"gridcolor\":\"white\",\"linecolor\":\"white\",\"minorgridcolor\":\"white\",\"startlinecolor\":\"#2a3f5f\"},\"baxis\":{\"endlinecolor\":\"#2a3f5f\",\"gridcolor\":\"white\",\"linecolor\":\"white\",\"minorgridcolor\":\"white\",\"startlinecolor\":\"#2a3f5f\"},\"type\":\"carpet\"}],\"table\":[{\"cells\":{\"fill\":{\"color\":\"#EBF0F8\"},\"line\":{\"color\":\"white\"}},\"header\":{\"fill\":{\"color\":\"#C8D4E3\"},\"line\":{\"color\":\"white\"}},\"type\":\"table\"}],\"barpolar\":[{\"marker\":{\"line\":{\"color\":\"#E5ECF6\",\"width\":0.5},\"pattern\":{\"fillmode\":\"overlay\",\"size\":10,\"solidity\":0.2}},\"type\":\"barpolar\"}],\"pie\":[{\"automargin\":true,\"type\":\"pie\"}]},\"layout\":{\"autotypenumbers\":\"strict\",\"colorway\":[\"#636efa\",\"#EF553B\",\"#00cc96\",\"#ab63fa\",\"#FFA15A\",\"#19d3f3\",\"#FF6692\",\"#B6E880\",\"#FF97FF\",\"#FECB52\"],\"font\":{\"color\":\"#2a3f5f\"},\"hovermode\":\"closest\",\"hoverlabel\":{\"align\":\"left\"},\"paper_bgcolor\":\"white\",\"plot_bgcolor\":\"#E5ECF6\",\"polar\":{\"bgcolor\":\"#E5ECF6\",\"angularaxis\":{\"gridcolor\":\"white\",\"linecolor\":\"white\",\"ticks\":\"\"},\"radialaxis\":{\"gridcolor\":\"white\",\"linecolor\":\"white\",\"ticks\":\"\"}},\"ternary\":{\"bgcolor\":\"#E5ECF6\",\"aaxis\":{\"gridcolor\":\"white\",\"linecolor\":\"white\",\"ticks\":\"\"},\"baxis\":{\"gridcolor\":\"white\",\"linecolor\":\"white\",\"ticks\":\"\"},\"caxis\":{\"gridcolor\":\"white\",\"linecolor\":\"white\",\"ticks\":\"\"}},\"coloraxis\":{\"colorbar\":{\"outlinewidth\":0,\"ticks\":\"\"}},\"colorscale\":{\"sequential\":[[0.0,\"#0d0887\"],[0.1111111111111111,\"#46039f\"],[0.2222222222222222,\"#7201a8\"],[0.3333333333333333,\"#9c179e\"],[0.4444444444444444,\"#bd3786\"],[0.5555555555555556,\"#d8576b\"],[0.6666666666666666,\"#ed7953\"],[0.7777777777777778,\"#fb9f3a\"],[0.8888888888888888,\"#fdca26\"],[1.0,\"#f0f921\"]],\"sequentialminus\":[[0.0,\"#0d0887\"],[0.1111111111111111,\"#46039f\"],[0.2222222222222222,\"#7201a8\"],[0.3333333333333333,\"#9c179e\"],[0.4444444444444444,\"#bd3786\"],[0.5555555555555556,\"#d8576b\"],[0.6666666666666666,\"#ed7953\"],[0.7777777777777778,\"#fb9f3a\"],[0.8888888888888888,\"#fdca26\"],[1.0,\"#f0f921\"]],\"diverging\":[[0,\"#8e0152\"],[0.1,\"#c51b7d\"],[0.2,\"#de77ae\"],[0.3,\"#f1b6da\"],[0.4,\"#fde0ef\"],[0.5,\"#f7f7f7\"],[0.6,\"#e6f5d0\"],[0.7,\"#b8e186\"],[0.8,\"#7fbc41\"],[0.9,\"#4d9221\"],[1,\"#276419\"]]},\"xaxis\":{\"gridcolor\":\"white\",\"linecolor\":\"white\",\"ticks\":\"\",\"title\":{\"standoff\":15},\"zerolinecolor\":\"white\",\"automargin\":true,\"zerolinewidth\":2},\"yaxis\":{\"gridcolor\":\"white\",\"linecolor\":\"white\",\"ticks\":\"\",\"title\":{\"standoff\":15},\"zerolinecolor\":\"white\",\"automargin\":true,\"zerolinewidth\":2},\"scene\":{\"xaxis\":{\"backgroundcolor\":\"#E5ECF6\",\"gridcolor\":\"white\",\"linecolor\":\"white\",\"showbackground\":true,\"ticks\":\"\",\"zerolinecolor\":\"white\",\"gridwidth\":2},\"yaxis\":{\"backgroundcolor\":\"#E5ECF6\",\"gridcolor\":\"white\",\"linecolor\":\"white\",\"showbackground\":true,\"ticks\":\"\",\"zerolinecolor\":\"white\",\"gridwidth\":2},\"zaxis\":{\"backgroundcolor\":\"#E5ECF6\",\"gridcolor\":\"white\",\"linecolor\":\"white\",\"showbackground\":true,\"ticks\":\"\",\"zerolinecolor\":\"white\",\"gridwidth\":2}},\"shapedefaults\":{\"line\":{\"color\":\"#2a3f5f\"}},\"annotationdefaults\":{\"arrowcolor\":\"#2a3f5f\",\"arrowhead\":0,\"arrowwidth\":1},\"geo\":{\"bgcolor\":\"white\",\"landcolor\":\"#E5ECF6\",\"subunitcolor\":\"white\",\"showland\":true,\"showlakes\":true,\"lakecolor\":\"white\"},\"title\":{\"x\":0.05},\"mapbox\":{\"style\":\"light\"}}}},                        {\"responsive\": true}                    ).then(function(){\n",
       "                            \n",
       "var gd = document.getElementById('40632b6b-6654-4aff-bef7-733eb62f5331');\n",
       "var x = new MutationObserver(function (mutations, observer) {{\n",
       "        var display = window.getComputedStyle(gd).display;\n",
       "        if (!display || display === 'none') {{\n",
       "            console.log([gd, 'removed!']);\n",
       "            Plotly.purge(gd);\n",
       "            observer.disconnect();\n",
       "        }}\n",
       "}});\n",
       "\n",
       "// Listen for the removal of the full notebook cells\n",
       "var notebookContainer = gd.closest('#notebook-container');\n",
       "if (notebookContainer) {{\n",
       "    x.observe(notebookContainer, {childList: true});\n",
       "}}\n",
       "\n",
       "// Listen for the clearing of the current output cell\n",
       "var outputEl = gd.closest('.output');\n",
       "if (outputEl) {{\n",
       "    x.observe(outputEl, {childList: true});\n",
       "}}\n",
       "\n",
       "                        })                };            </script>        </div>"
      ]
     },
     "metadata": {},
     "output_type": "display_data"
    }
   ],
   "source": [
    "x_range = np.linspace(4.72e-06, 5.72e-06, 50)\n",
    "y_SSE = []\n",
    "y_RMSE = []\n",
    "for i in x_range:\n",
    "    y_SSE.append(cost_SSE([7.56e-05, i]))\n",
    "    y_RMSE.append(cost_RMSE([7.56e-05, i]))\n",
    "\n",
    "fig = go.Figure()\n",
    "fig.add_trace(go.Scatter(x=x_range, y=y_SSE, mode=\"lines\", name=\"SSE\"))\n",
    "fig.add_trace(go.Scatter(x=x_range, y=y_RMSE, mode=\"lines\", name=\"RMSE\"))\n",
    "fig.show()"
   ]
  },
  {
   "cell_type": "markdown",
   "metadata": {},
   "source": [
    "In this situation, it's clear that the curvature of the SSE cost is greater than that of the RMSE. This can improve the rate of convergence for certain optimisation algorithms. However, with incorrect hyperparameter values, larger gradients can also result in the algorithm not converging due to sampling locations outside of the \"cost valley\", e.g. infeasible parameter values."
   ]
  },
  {
   "cell_type": "markdown",
   "metadata": {},
   "source": [
    "### Minkowski distance\n",
    "\n",
    "Next, let's investigate the Minkowski distance. The Minkowski cost takes a general form, which allows for hyperparameter calibration on the cost function itself, given by\n",
    "\n",
    "$\\mathcal{L_p} = \\displaystyle \\Big(\\sum_i  |\\hat{y_i}-y_i|^p\\Big)^{1/p}$\n",
    "\n",
    "where $p ≥ 0$ is the order of the Minkowski distance.\n",
    "\n",
    "For $p = 1$, it is the Manhattan distance.  \n",
    "For $p = 2$, it is the Euclidean distance.  \n",
    "For $p ≥ 1$, the Minkowski distance is a metric, but for $0<p<1$, note that the Minkowski distance is not a metric because the triangle inequality does not hold [[1]](https://en.wikipedia.org/wiki/Minkowski_distance), [[2]](https://docs.scipy.org/doc/scipy/reference/generated/scipy.spatial.distance.minkowski.html#scipy.spatial.distance.minkowski).\n",
    "\n",
    "The Minkowski distance is related to the previous two cost function as follows. The RMSE can be computed by dividing the Euclidean distance by the square root of the length of the target vector, while the SSE is the square of the Euclidean distance.\n",
    "\n",
    "PyBOP offers a Minkowski class, which we will construct below. This class has an optional argument of `p` which designates the order in the above equation. This value can be a float, with the only requirement that it is not negative. First, let's confirm the relationship between the SSE, RMSE and the Minkowski distance with a `p` value of 2."
   ]
  },
  {
   "cell_type": "code",
   "execution_count": null,
   "metadata": {},
   "outputs": [],
   "source": [
    "cost_minkowski = pybop.Minkowski(problem, p=2)"
   ]
  },
  {
   "cell_type": "code",
   "execution_count": null,
   "metadata": {},
   "outputs": [
    {
     "data": {
      "text/html": [
       "<div>            <script src=\"https://cdnjs.cloudflare.com/ajax/libs/mathjax/2.7.5/MathJax.js?config=TeX-AMS-MML_SVG\"></script><script type=\"text/javascript\">if (window.MathJax && window.MathJax.Hub && window.MathJax.Hub.Config) {window.MathJax.Hub.Config({SVG: {font: \"STIX-Web\"}});}</script>                <script type=\"text/javascript\">window.PlotlyConfig = {MathJaxConfig: 'local'};</script>\n",
       "        <script charset=\"utf-8\" src=\"https://cdn.plot.ly/plotly-3.0.1.min.js\"></script>                <div id=\"0b8c87bf-3308-417a-aa4b-a2c8d218094b\" class=\"plotly-graph-div\" style=\"height:525px; width:100%;\"></div>            <script type=\"text/javascript\">                window.PLOTLYENV=window.PLOTLYENV || {};                                if (document.getElementById(\"0b8c87bf-3308-417a-aa4b-a2c8d218094b\")) {                    Plotly.newPlot(                        \"0b8c87bf-3308-417a-aa4b-a2c8d218094b\",                        [{\"mode\":\"lines\",\"name\":\"RMSE*N\",\"x\":{\"dtype\":\"f8\",\"bdata\":\"RcGEuA\\u002fM0z6qqVZ5+eHTPhCSKDrj99M+dXr6+swN1D7aYsy7tiPUPkBLnnygOdQ+pTNwPYpP1D4KHEL+c2XUPm8EFL9de9Q+1ezlf0eR1D461bdAMafUPp+9iQEbvdQ+BaZbwgTT1D5qji2D7ujUPs92\\u002f0PY\\u002ftQ+NV\\u002fRBMIU1T6aR6PFqyrVPv8vdYaVQNU+ZBhHR39W1T7KABkIaWzVPi\\u002fp6shSgtU+lNG8iTyY1T76uY5KJq7VPl+iYAsQxNU+xIoyzPnZ1T4qcwSN4+\\u002fVPo9b1k3NBdY+9EOoDrcb1j5aLHrPoDHWPr8UTJCKR9Y+JP0dUXRd1j6K5e8RXnPWPu\\u002fNwdJHidY+VLaTkzGf1j65nmVUG7XWPh+HNxUFy9Y+hG8J1u7g1j7pV9uW2PbWPk9ArVfCDNc+tCh\\u002fGKwi1z4ZEVHZlTjXPn75Ipp\\u002fTtc+5OH0Wmlk1z5JysYbU3rXPq6ymNw8kNc+FJtqnSam1z55gzxeELzXPt5rDh\\u002f60dc+RFTg3+Pn1z6pPLKgzf3XPg==\"},\"y\":{\"dtype\":\"f8\",\"bdata\":\"g7KeN2Eblz8l4ZndyzeWPwAjuiINU5U\\u002f4MRfFSRtlD+NRhvdD4aTP8P3brrPnZI\\u002fbVaUBmO0kT9dUO3bHMqQP8yaP7CqvI8\\u002fQWoszr\\u002fijT8wKS6HeAaMPykptYHUJ4o\\u002fambfldNGiD9PdQrPdWOGP+FRr267fYQ\\u002fnSl98aSVgj\\u002f5CpAYM6uAP3kGKvXNfH0\\u002fv+\\u002fQSoSeeT\\u002fyrDf9ObN1P0lPtRuzy3E\\u002fUuYHNvm+az+ZJ9RPMt1jP30GpeAu5Fc\\u002fNm84kHjtPz8Xysgj\\u002fv8\\u002fP3TQ9gbbDVg\\u002fsoIgFRIXZD\\u002ff9kvgZDBsP98ByGVuKXI\\u002fRaoNIDg\\u002fdj+Rvk6Will6P19fGIRgeH4\\u002fg7pNNdpNgT94og5JwGGDPwG+sYXfd4U\\u002fIIiP2DSQhz8kfKoUvaqJP+CoYfN0x4s\\u002f6aYiFVnmjT8GwwwBswOQPxb0bxVMFZE\\u002fviSV9PUnkj8ExjnArjuTP47jU490UJQ\\u002fEgxmbkVmlT+KEdNfH32WP+OtMFwAlZc\\u002fR\\u002fGYUuatmD8TYvsoz8eZPw==\"},\"type\":\"scatter\"},{\"line\":{\"dash\":\"dash\"},\"mode\":\"lines\",\"name\":\"sqrt(SSE)\",\"x\":{\"dtype\":\"f8\",\"bdata\":\"RcGEuA\\u002fM0z6qqVZ5+eHTPhCSKDrj99M+dXr6+swN1D7aYsy7tiPUPkBLnnygOdQ+pTNwPYpP1D4KHEL+c2XUPm8EFL9de9Q+1ezlf0eR1D461bdAMafUPp+9iQEbvdQ+BaZbwgTT1D5qji2D7ujUPs92\\u002f0PY\\u002ftQ+NV\\u002fRBMIU1T6aR6PFqyrVPv8vdYaVQNU+ZBhHR39W1T7KABkIaWzVPi\\u002fp6shSgtU+lNG8iTyY1T76uY5KJq7VPl+iYAsQxNU+xIoyzPnZ1T4qcwSN4+\\u002fVPo9b1k3NBdY+9EOoDrcb1j5aLHrPoDHWPr8UTJCKR9Y+JP0dUXRd1j6K5e8RXnPWPu\\u002fNwdJHidY+VLaTkzGf1j65nmVUG7XWPh+HNxUFy9Y+hG8J1u7g1j7pV9uW2PbWPk9ArVfCDNc+tCh\\u002fGKwi1z4ZEVHZlTjXPn75Ipp\\u002fTtc+5OH0Wmlk1z5JysYbU3rXPq6ymNw8kNc+FJtqnSam1z55gzxeELzXPt5rDh\\u002f60dc+RFTg3+Pn1z6pPLKgzf3XPg==\"},\"y\":{\"dtype\":\"f8\",\"bdata\":\"g7KeN2Eblz8l4ZndyzeWPwAjuiINU5U\\u002f4MRfFSRtlD+ORhvdD4aTP8P3brrPnZI\\u002fbVaUBmO0kT9dUO3bHMqQP8yaP7CqvI8\\u002fQWoszr\\u002fijT8wKS6HeAaMPygptYHUJ4o\\u002fambfldNGiD9OdQrPdWOGP+FRr267fYQ\\u002fnSl98aSVgj\\u002f5CpAYM6uAP3gGKvXNfH0\\u002fv+\\u002fQSoSeeT\\u002fyrDf9ObN1P0lPtRuzy3E\\u002fUeYHNvm+az+ZJ9RPMt1jP30GpeAu5Fc\\u002fNW84kHjtPz8Xysgj\\u002fv8\\u002fP3PQ9gbbDVg\\u002fsoIgFRIXZD\\u002ff9kvgZDBsP98ByGVuKXI\\u002fRaoNIDg\\u002fdj+Rvk6Will6P19fGIRgeH4\\u002fg7pNNdpNgT93og5JwGGDPwG+sYXfd4U\\u002fIIiP2DSQhz8kfKoUvaqJP+CoYfN0x4s\\u002f6aYiFVnmjT8GwwwBswOQPxb0bxVMFZE\\u002fviSV9PUnkj8ExjnArjuTP47jU490UJQ\\u002fEQxmbkVmlT+LEdNfH32WP+StMFwAlZc\\u002fRvGYUuatmD8TYvsoz8eZPw==\"},\"type\":\"scatter\"},{\"line\":{\"dash\":\"dot\"},\"mode\":\"lines\",\"name\":\"Minkowski\",\"x\":{\"dtype\":\"f8\",\"bdata\":\"RcGEuA\\u002fM0z6qqVZ5+eHTPhCSKDrj99M+dXr6+swN1D7aYsy7tiPUPkBLnnygOdQ+pTNwPYpP1D4KHEL+c2XUPm8EFL9de9Q+1ezlf0eR1D461bdAMafUPp+9iQEbvdQ+BaZbwgTT1D5qji2D7ujUPs92\\u002f0PY\\u002ftQ+NV\\u002fRBMIU1T6aR6PFqyrVPv8vdYaVQNU+ZBhHR39W1T7KABkIaWzVPi\\u002fp6shSgtU+lNG8iTyY1T76uY5KJq7VPl+iYAsQxNU+xIoyzPnZ1T4qcwSN4+\\u002fVPo9b1k3NBdY+9EOoDrcb1j5aLHrPoDHWPr8UTJCKR9Y+JP0dUXRd1j6K5e8RXnPWPu\\u002fNwdJHidY+VLaTkzGf1j65nmVUG7XWPh+HNxUFy9Y+hG8J1u7g1j7pV9uW2PbWPk9ArVfCDNc+tCh\\u002fGKwi1z4ZEVHZlTjXPn75Ipp\\u002fTtc+5OH0Wmlk1z5JysYbU3rXPq6ymNw8kNc+FJtqnSam1z55gzxeELzXPt5rDh\\u002f60dc+RFTg3+Pn1z6pPLKgzf3XPg==\"},\"y\":[0.02256538297631262,0.02169722118421293,0.020824628109525456,0.019947589687892342,0.019066093321106474,0.018180127862926342,0.017289683605744722,0.016395998881606356,0.015496572021175402,0.014592646102348119,0.013684217095733503,0.012771282394755959,0.01185384083867121,0.010931892758260144,0.010005440059026096,0.009074486369759433,0.008139037310689089,0.007199100992353651,0.006254688994029977,0.0052978768539830735,0.004344653741401868,0.0033869616893269856,0.0024248106625508023,0.0014582116878759926,0.00048717683259423837,0.00048828081688437455,0.0014681471765074755,0.0024524071859704727,0.003441044830082215,0.004434043160018024,0.005431384314628367,0.006433049541484729,0.007439019218075631,0.00844927287263642,0.00946378920510081,0.010482546107794201,0.011505520686061088,0.012532689278769445,0.01356402747861235,0.014599510152339916,0.015639111460759934,0.016682804878645006,0.017730563214432442,0.018782358629726673,0.01983816265871812,0.020897946227261658,0.021961679671919348,0.02302933275875131,0.024100874701830997,0.025176274181690838],\"type\":\"scatter\"}],                        {\"template\":{\"data\":{\"histogram2dcontour\":[{\"type\":\"histogram2dcontour\",\"colorbar\":{\"outlinewidth\":0,\"ticks\":\"\"},\"colorscale\":[[0.0,\"#0d0887\"],[0.1111111111111111,\"#46039f\"],[0.2222222222222222,\"#7201a8\"],[0.3333333333333333,\"#9c179e\"],[0.4444444444444444,\"#bd3786\"],[0.5555555555555556,\"#d8576b\"],[0.6666666666666666,\"#ed7953\"],[0.7777777777777778,\"#fb9f3a\"],[0.8888888888888888,\"#fdca26\"],[1.0,\"#f0f921\"]]}],\"choropleth\":[{\"type\":\"choropleth\",\"colorbar\":{\"outlinewidth\":0,\"ticks\":\"\"}}],\"histogram2d\":[{\"type\":\"histogram2d\",\"colorbar\":{\"outlinewidth\":0,\"ticks\":\"\"},\"colorscale\":[[0.0,\"#0d0887\"],[0.1111111111111111,\"#46039f\"],[0.2222222222222222,\"#7201a8\"],[0.3333333333333333,\"#9c179e\"],[0.4444444444444444,\"#bd3786\"],[0.5555555555555556,\"#d8576b\"],[0.6666666666666666,\"#ed7953\"],[0.7777777777777778,\"#fb9f3a\"],[0.8888888888888888,\"#fdca26\"],[1.0,\"#f0f921\"]]}],\"heatmap\":[{\"type\":\"heatmap\",\"colorbar\":{\"outlinewidth\":0,\"ticks\":\"\"},\"colorscale\":[[0.0,\"#0d0887\"],[0.1111111111111111,\"#46039f\"],[0.2222222222222222,\"#7201a8\"],[0.3333333333333333,\"#9c179e\"],[0.4444444444444444,\"#bd3786\"],[0.5555555555555556,\"#d8576b\"],[0.6666666666666666,\"#ed7953\"],[0.7777777777777778,\"#fb9f3a\"],[0.8888888888888888,\"#fdca26\"],[1.0,\"#f0f921\"]]}],\"contourcarpet\":[{\"type\":\"contourcarpet\",\"colorbar\":{\"outlinewidth\":0,\"ticks\":\"\"}}],\"contour\":[{\"type\":\"contour\",\"colorbar\":{\"outlinewidth\":0,\"ticks\":\"\"},\"colorscale\":[[0.0,\"#0d0887\"],[0.1111111111111111,\"#46039f\"],[0.2222222222222222,\"#7201a8\"],[0.3333333333333333,\"#9c179e\"],[0.4444444444444444,\"#bd3786\"],[0.5555555555555556,\"#d8576b\"],[0.6666666666666666,\"#ed7953\"],[0.7777777777777778,\"#fb9f3a\"],[0.8888888888888888,\"#fdca26\"],[1.0,\"#f0f921\"]]}],\"surface\":[{\"type\":\"surface\",\"colorbar\":{\"outlinewidth\":0,\"ticks\":\"\"},\"colorscale\":[[0.0,\"#0d0887\"],[0.1111111111111111,\"#46039f\"],[0.2222222222222222,\"#7201a8\"],[0.3333333333333333,\"#9c179e\"],[0.4444444444444444,\"#bd3786\"],[0.5555555555555556,\"#d8576b\"],[0.6666666666666666,\"#ed7953\"],[0.7777777777777778,\"#fb9f3a\"],[0.8888888888888888,\"#fdca26\"],[1.0,\"#f0f921\"]]}],\"mesh3d\":[{\"type\":\"mesh3d\",\"colorbar\":{\"outlinewidth\":0,\"ticks\":\"\"}}],\"scatter\":[{\"fillpattern\":{\"fillmode\":\"overlay\",\"size\":10,\"solidity\":0.2},\"type\":\"scatter\"}],\"parcoords\":[{\"type\":\"parcoords\",\"line\":{\"colorbar\":{\"outlinewidth\":0,\"ticks\":\"\"}}}],\"scatterpolargl\":[{\"type\":\"scatterpolargl\",\"marker\":{\"colorbar\":{\"outlinewidth\":0,\"ticks\":\"\"}}}],\"bar\":[{\"error_x\":{\"color\":\"#2a3f5f\"},\"error_y\":{\"color\":\"#2a3f5f\"},\"marker\":{\"line\":{\"color\":\"#E5ECF6\",\"width\":0.5},\"pattern\":{\"fillmode\":\"overlay\",\"size\":10,\"solidity\":0.2}},\"type\":\"bar\"}],\"scattergeo\":[{\"type\":\"scattergeo\",\"marker\":{\"colorbar\":{\"outlinewidth\":0,\"ticks\":\"\"}}}],\"scatterpolar\":[{\"type\":\"scatterpolar\",\"marker\":{\"colorbar\":{\"outlinewidth\":0,\"ticks\":\"\"}}}],\"histogram\":[{\"marker\":{\"pattern\":{\"fillmode\":\"overlay\",\"size\":10,\"solidity\":0.2}},\"type\":\"histogram\"}],\"scattergl\":[{\"type\":\"scattergl\",\"marker\":{\"colorbar\":{\"outlinewidth\":0,\"ticks\":\"\"}}}],\"scatter3d\":[{\"type\":\"scatter3d\",\"line\":{\"colorbar\":{\"outlinewidth\":0,\"ticks\":\"\"}},\"marker\":{\"colorbar\":{\"outlinewidth\":0,\"ticks\":\"\"}}}],\"scattermap\":[{\"type\":\"scattermap\",\"marker\":{\"colorbar\":{\"outlinewidth\":0,\"ticks\":\"\"}}}],\"scattermapbox\":[{\"type\":\"scattermapbox\",\"marker\":{\"colorbar\":{\"outlinewidth\":0,\"ticks\":\"\"}}}],\"scatterternary\":[{\"type\":\"scatterternary\",\"marker\":{\"colorbar\":{\"outlinewidth\":0,\"ticks\":\"\"}}}],\"scattercarpet\":[{\"type\":\"scattercarpet\",\"marker\":{\"colorbar\":{\"outlinewidth\":0,\"ticks\":\"\"}}}],\"carpet\":[{\"aaxis\":{\"endlinecolor\":\"#2a3f5f\",\"gridcolor\":\"white\",\"linecolor\":\"white\",\"minorgridcolor\":\"white\",\"startlinecolor\":\"#2a3f5f\"},\"baxis\":{\"endlinecolor\":\"#2a3f5f\",\"gridcolor\":\"white\",\"linecolor\":\"white\",\"minorgridcolor\":\"white\",\"startlinecolor\":\"#2a3f5f\"},\"type\":\"carpet\"}],\"table\":[{\"cells\":{\"fill\":{\"color\":\"#EBF0F8\"},\"line\":{\"color\":\"white\"}},\"header\":{\"fill\":{\"color\":\"#C8D4E3\"},\"line\":{\"color\":\"white\"}},\"type\":\"table\"}],\"barpolar\":[{\"marker\":{\"line\":{\"color\":\"#E5ECF6\",\"width\":0.5},\"pattern\":{\"fillmode\":\"overlay\",\"size\":10,\"solidity\":0.2}},\"type\":\"barpolar\"}],\"pie\":[{\"automargin\":true,\"type\":\"pie\"}]},\"layout\":{\"autotypenumbers\":\"strict\",\"colorway\":[\"#636efa\",\"#EF553B\",\"#00cc96\",\"#ab63fa\",\"#FFA15A\",\"#19d3f3\",\"#FF6692\",\"#B6E880\",\"#FF97FF\",\"#FECB52\"],\"font\":{\"color\":\"#2a3f5f\"},\"hovermode\":\"closest\",\"hoverlabel\":{\"align\":\"left\"},\"paper_bgcolor\":\"white\",\"plot_bgcolor\":\"#E5ECF6\",\"polar\":{\"bgcolor\":\"#E5ECF6\",\"angularaxis\":{\"gridcolor\":\"white\",\"linecolor\":\"white\",\"ticks\":\"\"},\"radialaxis\":{\"gridcolor\":\"white\",\"linecolor\":\"white\",\"ticks\":\"\"}},\"ternary\":{\"bgcolor\":\"#E5ECF6\",\"aaxis\":{\"gridcolor\":\"white\",\"linecolor\":\"white\",\"ticks\":\"\"},\"baxis\":{\"gridcolor\":\"white\",\"linecolor\":\"white\",\"ticks\":\"\"},\"caxis\":{\"gridcolor\":\"white\",\"linecolor\":\"white\",\"ticks\":\"\"}},\"coloraxis\":{\"colorbar\":{\"outlinewidth\":0,\"ticks\":\"\"}},\"colorscale\":{\"sequential\":[[0.0,\"#0d0887\"],[0.1111111111111111,\"#46039f\"],[0.2222222222222222,\"#7201a8\"],[0.3333333333333333,\"#9c179e\"],[0.4444444444444444,\"#bd3786\"],[0.5555555555555556,\"#d8576b\"],[0.6666666666666666,\"#ed7953\"],[0.7777777777777778,\"#fb9f3a\"],[0.8888888888888888,\"#fdca26\"],[1.0,\"#f0f921\"]],\"sequentialminus\":[[0.0,\"#0d0887\"],[0.1111111111111111,\"#46039f\"],[0.2222222222222222,\"#7201a8\"],[0.3333333333333333,\"#9c179e\"],[0.4444444444444444,\"#bd3786\"],[0.5555555555555556,\"#d8576b\"],[0.6666666666666666,\"#ed7953\"],[0.7777777777777778,\"#fb9f3a\"],[0.8888888888888888,\"#fdca26\"],[1.0,\"#f0f921\"]],\"diverging\":[[0,\"#8e0152\"],[0.1,\"#c51b7d\"],[0.2,\"#de77ae\"],[0.3,\"#f1b6da\"],[0.4,\"#fde0ef\"],[0.5,\"#f7f7f7\"],[0.6,\"#e6f5d0\"],[0.7,\"#b8e186\"],[0.8,\"#7fbc41\"],[0.9,\"#4d9221\"],[1,\"#276419\"]]},\"xaxis\":{\"gridcolor\":\"white\",\"linecolor\":\"white\",\"ticks\":\"\",\"title\":{\"standoff\":15},\"zerolinecolor\":\"white\",\"automargin\":true,\"zerolinewidth\":2},\"yaxis\":{\"gridcolor\":\"white\",\"linecolor\":\"white\",\"ticks\":\"\",\"title\":{\"standoff\":15},\"zerolinecolor\":\"white\",\"automargin\":true,\"zerolinewidth\":2},\"scene\":{\"xaxis\":{\"backgroundcolor\":\"#E5ECF6\",\"gridcolor\":\"white\",\"linecolor\":\"white\",\"showbackground\":true,\"ticks\":\"\",\"zerolinecolor\":\"white\",\"gridwidth\":2},\"yaxis\":{\"backgroundcolor\":\"#E5ECF6\",\"gridcolor\":\"white\",\"linecolor\":\"white\",\"showbackground\":true,\"ticks\":\"\",\"zerolinecolor\":\"white\",\"gridwidth\":2},\"zaxis\":{\"backgroundcolor\":\"#E5ECF6\",\"gridcolor\":\"white\",\"linecolor\":\"white\",\"showbackground\":true,\"ticks\":\"\",\"zerolinecolor\":\"white\",\"gridwidth\":2}},\"shapedefaults\":{\"line\":{\"color\":\"#2a3f5f\"}},\"annotationdefaults\":{\"arrowcolor\":\"#2a3f5f\",\"arrowhead\":0,\"arrowwidth\":1},\"geo\":{\"bgcolor\":\"white\",\"landcolor\":\"#E5ECF6\",\"subunitcolor\":\"white\",\"showland\":true,\"showlakes\":true,\"lakecolor\":\"white\"},\"title\":{\"x\":0.05},\"mapbox\":{\"style\":\"light\"}}}},                        {\"responsive\": true}                    ).then(function(){\n",
       "                            \n",
       "var gd = document.getElementById('0b8c87bf-3308-417a-aa4b-a2c8d218094b');\n",
       "var x = new MutationObserver(function (mutations, observer) {{\n",
       "        var display = window.getComputedStyle(gd).display;\n",
       "        if (!display || display === 'none') {{\n",
       "            console.log([gd, 'removed!']);\n",
       "            Plotly.purge(gd);\n",
       "            observer.disconnect();\n",
       "        }}\n",
       "}});\n",
       "\n",
       "// Listen for the removal of the full notebook cells\n",
       "var notebookContainer = gd.closest('#notebook-container');\n",
       "if (notebookContainer) {{\n",
       "    x.observe(notebookContainer, {childList: true});\n",
       "}}\n",
       "\n",
       "// Listen for the clearing of the current output cell\n",
       "var outputEl = gd.closest('.output');\n",
       "if (outputEl) {{\n",
       "    x.observe(outputEl, {childList: true});\n",
       "}}\n",
       "\n",
       "                        })                };            </script>        </div>"
      ]
     },
     "metadata": {},
     "output_type": "display_data"
    }
   ],
   "source": [
    "y_minkowski = []\n",
    "for i in x_range:\n",
    "    y_minkowski.append(cost_minkowski([7.56e-05, i]))\n",
    "\n",
    "fig = go.Figure()\n",
    "fig.add_trace(\n",
    "    go.Scatter(\n",
    "        x=x_range,\n",
    "        y=np.asarray(y_RMSE) * np.sqrt(len(t_eval)),\n",
    "        mode=\"lines\",\n",
    "        name=\"RMSE*N\",\n",
    "    )\n",
    ")\n",
    "fig.add_trace(\n",
    "    go.Scatter(\n",
    "        x=x_range,\n",
    "        y=np.sqrt(y_SSE),\n",
    "        mode=\"lines\",\n",
    "        line=dict(dash=\"dash\"),\n",
    "        name=\"sqrt(SSE)\",\n",
    "    )\n",
    ")\n",
    "fig.add_trace(\n",
    "    go.Scatter(\n",
    "        x=x_range, y=y_minkowski, mode=\"lines\", line=dict(dash=\"dot\"), name=\"Minkowski\"\n",
    "    )\n",
    ")\n",
    "fig.show()"
   ]
  },
  {
   "cell_type": "markdown",
   "metadata": {},
   "source": [
    "As expected, these lines lie on top of one another. Now, let's take a look at how the Minkowski cost changes for different orders, `p`."
   ]
  },
  {
   "cell_type": "code",
   "execution_count": null,
   "metadata": {},
   "outputs": [],
   "source": [
    "p_orders = np.append(0.75, np.linspace(1, 3, 3))\n",
    "y_minkowski = tuple(\n",
    "    [pybop.Minkowski(problem, p=j)([7.56e-05, i]) for i in x_range] for j in p_orders\n",
    ")"
   ]
  },
  {
   "cell_type": "code",
   "execution_count": null,
   "metadata": {},
   "outputs": [
    {
     "data": {
      "text/html": [
       "<div>            <script src=\"https://cdnjs.cloudflare.com/ajax/libs/mathjax/2.7.5/MathJax.js?config=TeX-AMS-MML_SVG\"></script><script type=\"text/javascript\">if (window.MathJax && window.MathJax.Hub && window.MathJax.Hub.Config) {window.MathJax.Hub.Config({SVG: {font: \"STIX-Web\"}});}</script>                <script type=\"text/javascript\">window.PlotlyConfig = {MathJaxConfig: 'local'};</script>\n",
       "        <script charset=\"utf-8\" src=\"https://cdn.plot.ly/plotly-3.0.1.min.js\"></script>                <div id=\"89de125a-336c-4fc6-9407-1bb0d315af42\" class=\"plotly-graph-div\" style=\"height:525px; width:100%;\"></div>            <script type=\"text/javascript\">                window.PLOTLYENV=window.PLOTLYENV || {};                                if (document.getElementById(\"89de125a-336c-4fc6-9407-1bb0d315af42\")) {                    Plotly.newPlot(                        \"89de125a-336c-4fc6-9407-1bb0d315af42\",                        [{\"mode\":\"lines\",\"name\":\"Minkowski 0.75\",\"x\":{\"dtype\":\"f8\",\"bdata\":\"RcGEuA\\u002fM0z6qqVZ5+eHTPhCSKDrj99M+dXr6+swN1D7aYsy7tiPUPkBLnnygOdQ+pTNwPYpP1D4KHEL+c2XUPm8EFL9de9Q+1ezlf0eR1D461bdAMafUPp+9iQEbvdQ+BaZbwgTT1D5qji2D7ujUPs92\\u002f0PY\\u002ftQ+NV\\u002fRBMIU1T6aR6PFqyrVPv8vdYaVQNU+ZBhHR39W1T7KABkIaWzVPi\\u002fp6shSgtU+lNG8iTyY1T76uY5KJq7VPl+iYAsQxNU+xIoyzPnZ1T4qcwSN4+\\u002fVPo9b1k3NBdY+9EOoDrcb1j5aLHrPoDHWPr8UTJCKR9Y+JP0dUXRd1j6K5e8RXnPWPu\\u002fNwdJHidY+VLaTkzGf1j65nmVUG7XWPh+HNxUFy9Y+hG8J1u7g1j7pV9uW2PbWPk9ArVfCDNc+tCh\\u002fGKwi1z4ZEVHZlTjXPn75Ipp\\u002fTtc+5OH0Wmlk1z5JysYbU3rXPq6ymNw8kNc+FJtqnSam1z55gzxeELzXPt5rDh\\u002f60dc+RFTg3+Pn1z6pPLKgzf3XPg==\"},\"y\":[0.18480815513501792,0.1775443687314772,0.17025854547428826,0.16295048509732024,0.1556199952316228,0.14826689133441703,0.14089099660856777,0.133509212439331,0.1260872187279405,0.11864195036665962,0.1111732605447388,0.10368100957513242,0.09616506466674683,0.08862529961742578,0.0810615943690514,0.0734738343290536,0.06586190927132253,0.0582257114282057,0.050565131927370686,0.04270044108278052,0.034991973710579966,0.02725901612930988,0.019501508513914897,0.011719397660406772,0.003912636905080845,0.003918813957227189,0.01177498875586357,0.019655915026998125,0.02756161409793051,0.03549210117027724,0.043447385405647646,0.05142747000932642,0.05943235231727173,0.06746202388040883,0.07551647055125923,0.08359567257023451,0.09169960465147058,0.09982823607071124,0.10798153075043236,0.11615944734813778,0.12436193934197873,0.13258895511878965,0.1408404380603757,0.1491163266302194,0.15741655446104802,0.1657410504402647,0.17408973879754108,0.18246253919085148,0.19085936679226995,0.19928013237440564],\"type\":\"scatter\"},{\"mode\":\"lines\",\"name\":\"Minkowski 1.0\",\"x\":{\"dtype\":\"f8\",\"bdata\":\"RcGEuA\\u002fM0z6qqVZ5+eHTPhCSKDrj99M+dXr6+swN1D7aYsy7tiPUPkBLnnygOdQ+pTNwPYpP1D4KHEL+c2XUPm8EFL9de9Q+1ezlf0eR1D461bdAMafUPp+9iQEbvdQ+BaZbwgTT1D5qji2D7ujUPs92\\u002f0PY\\u002ftQ+NV\\u002fRBMIU1T6aR6PFqyrVPv8vdYaVQNU+ZBhHR39W1T7KABkIaWzVPi\\u002fp6shSgtU+lNG8iTyY1T76uY5KJq7VPl+iYAsQxNU+xIoyzPnZ1T4qcwSN4+\\u002fVPo9b1k3NBdY+9EOoDrcb1j5aLHrPoDHWPr8UTJCKR9Y+JP0dUXRd1j6K5e8RXnPWPu\\u002fNwdJHidY+VLaTkzGf1j65nmVUG7XWPh+HNxUFy9Y+hG8J1u7g1j7pV9uW2PbWPk9ArVfCDNc+tCh\\u002fGKwi1z4ZEVHZlTjXPn75Ipp\\u002fTtc+5OH0Wmlk1z5JysYbU3rXPq6ymNw8kNc+FJtqnSam1z55gzxeELzXPt5rDh\\u002f60dc+RFTg3+Pn1z6pPLKgzf3XPg==\"},\"y\":[0.0774541550645158,0.07442512559350378,0.07138549720577769,0.06833518866012733,0.06527412241518915,0.06220222460153613,0.05911942499180123,0.05603225229929487,0.05292744521033521,0.04981154783621333,0.0466845042274362,0.04354626191659916,0.04039677188350721,0.03723598852081489,0.034063869598308205,0.03088037622649642,0.02768547282016387,0.024479127060652583,0.02126130985845265,0.017965032652109247,0.014724628473235857,0.011472701217273507,0.00820923434096743,0.004934214333539355,0.0016476306762878146,0.0016505241980819818,0.004960254946667408,0.008281563357567023,0.011614448391723986,0.014958906224417312,0.01831493028771103,0.021682511312154595,0.025061637369786727,0.028452293916063187,0.031854463832759805,0.035268127470645894,0.03869326269206441,0.04212984491418004,0.04557784715126134,0.049037240058036335,0.05250799197209588,0.0559900689570858,0.05948343484527019,0.06298805128015639,0.06650387775942157,0.07003087167696487,0.07356898836570602,0.07711818113977476,0.08067840133647053,0.08424959835845414],\"type\":\"scatter\"},{\"mode\":\"lines\",\"name\":\"Minkowski 2.0\",\"x\":{\"dtype\":\"f8\",\"bdata\":\"RcGEuA\\u002fM0z6qqVZ5+eHTPhCSKDrj99M+dXr6+swN1D7aYsy7tiPUPkBLnnygOdQ+pTNwPYpP1D4KHEL+c2XUPm8EFL9de9Q+1ezlf0eR1D461bdAMafUPp+9iQEbvdQ+BaZbwgTT1D5qji2D7ujUPs92\\u002f0PY\\u002ftQ+NV\\u002fRBMIU1T6aR6PFqyrVPv8vdYaVQNU+ZBhHR39W1T7KABkIaWzVPi\\u002fp6shSgtU+lNG8iTyY1T76uY5KJq7VPl+iYAsQxNU+xIoyzPnZ1T4qcwSN4+\\u002fVPo9b1k3NBdY+9EOoDrcb1j5aLHrPoDHWPr8UTJCKR9Y+JP0dUXRd1j6K5e8RXnPWPu\\u002fNwdJHidY+VLaTkzGf1j65nmVUG7XWPh+HNxUFy9Y+hG8J1u7g1j7pV9uW2PbWPk9ArVfCDNc+tCh\\u002fGKwi1z4ZEVHZlTjXPn75Ipp\\u002fTtc+5OH0Wmlk1z5JysYbU3rXPq6ymNw8kNc+FJtqnSam1z55gzxeELzXPt5rDh\\u002f60dc+RFTg3+Pn1z6pPLKgzf3XPg==\"},\"y\":[0.02256538297631262,0.02169722118421293,0.020824628109525456,0.019947589687892342,0.019066093321106474,0.018180127862926342,0.017289683605744722,0.016395998881606356,0.015496572021175402,0.014592646102348119,0.013684217095733503,0.012771282394755959,0.01185384083867121,0.010931892758260144,0.010005440059026096,0.009074486369759433,0.008139037310689089,0.007199100992353651,0.006254688994029977,0.0052978768539830735,0.004344653741401868,0.0033869616893269856,0.0024248106625508023,0.0014582116878759926,0.00048717683259423837,0.00048828081688437455,0.0014681471765074755,0.0024524071859704727,0.003441044830082215,0.004434043160018024,0.005431384314628367,0.006433049541484729,0.007439019218075631,0.00844927287263642,0.00946378920510081,0.010482546107794201,0.011505520686061088,0.012532689278769445,0.01356402747861235,0.014599510152339916,0.015639111460759934,0.016682804878645006,0.017730563214432442,0.018782358629726673,0.01983816265871812,0.020897946227261658,0.021961679671919348,0.02302933275875131,0.024100874701830997,0.025176274181690838],\"type\":\"scatter\"},{\"mode\":\"lines\",\"name\":\"Minkowski 3.0\",\"x\":{\"dtype\":\"f8\",\"bdata\":\"RcGEuA\\u002fM0z6qqVZ5+eHTPhCSKDrj99M+dXr6+swN1D7aYsy7tiPUPkBLnnygOdQ+pTNwPYpP1D4KHEL+c2XUPm8EFL9de9Q+1ezlf0eR1D461bdAMafUPp+9iQEbvdQ+BaZbwgTT1D5qji2D7ujUPs92\\u002f0PY\\u002ftQ+NV\\u002fRBMIU1T6aR6PFqyrVPv8vdYaVQNU+ZBhHR39W1T7KABkIaWzVPi\\u002fp6shSgtU+lNG8iTyY1T76uY5KJq7VPl+iYAsQxNU+xIoyzPnZ1T4qcwSN4+\\u002fVPo9b1k3NBdY+9EOoDrcb1j5aLHrPoDHWPr8UTJCKR9Y+JP0dUXRd1j6K5e8RXnPWPu\\u002fNwdJHidY+VLaTkzGf1j65nmVUG7XWPh+HNxUFy9Y+hG8J1u7g1j7pV9uW2PbWPk9ArVfCDNc+tCh\\u002fGKwi1z4ZEVHZlTjXPn75Ipp\\u002fTtc+5OH0Wmlk1z5JysYbU3rXPq6ymNw8kNc+FJtqnSam1z55gzxeELzXPt5rDh\\u002f60dc+RFTg3+Pn1z6pPLKgzf3XPg==\"},\"y\":[0.015867192216544264,0.015262201030183022,0.014653521834155619,0.014041155851403071,0.013425105407264227,0.012805373911112599,0.012181965838883759,0.011555401540227488,0.010924658021826072,0.010290257829448495,0.009652209571414841,0.00901052287448077,0.00836520839373298,0.007716277839070222,0.007063744029228898,0.0064076209938567,0.005747924163858758,0.005084670733255105,0.004417880380553556,0.0037485393254573867,0.003074812470333429,0.002397585710985169,0.001716877297007437,0.0010327061725439396,0.00034509195659257713,0.0003459450763757689,0.0010403840156897677,0.0017382033335509163,0.0024393809038628787,0.003143894020864932,0.003851719417602591,0.004562833284082563,0.0052772112853342835,0.005994828579105407,0.006715659833463966,0.007439679244068142,0.008166860551283033,0.008897177056994875,0.009630601641250855,0.01036710677861299,0.011106664554298937,0.01184924668007179,0.01259482450990197,0.013343369055355183,0.014094851000794772,0.014849240718261596,0.015606508282180845,0.016366623483814405,0.01712955584540248,0.017895274634162628],\"type\":\"scatter\"}],                        {\"template\":{\"data\":{\"histogram2dcontour\":[{\"type\":\"histogram2dcontour\",\"colorbar\":{\"outlinewidth\":0,\"ticks\":\"\"},\"colorscale\":[[0.0,\"#0d0887\"],[0.1111111111111111,\"#46039f\"],[0.2222222222222222,\"#7201a8\"],[0.3333333333333333,\"#9c179e\"],[0.4444444444444444,\"#bd3786\"],[0.5555555555555556,\"#d8576b\"],[0.6666666666666666,\"#ed7953\"],[0.7777777777777778,\"#fb9f3a\"],[0.8888888888888888,\"#fdca26\"],[1.0,\"#f0f921\"]]}],\"choropleth\":[{\"type\":\"choropleth\",\"colorbar\":{\"outlinewidth\":0,\"ticks\":\"\"}}],\"histogram2d\":[{\"type\":\"histogram2d\",\"colorbar\":{\"outlinewidth\":0,\"ticks\":\"\"},\"colorscale\":[[0.0,\"#0d0887\"],[0.1111111111111111,\"#46039f\"],[0.2222222222222222,\"#7201a8\"],[0.3333333333333333,\"#9c179e\"],[0.4444444444444444,\"#bd3786\"],[0.5555555555555556,\"#d8576b\"],[0.6666666666666666,\"#ed7953\"],[0.7777777777777778,\"#fb9f3a\"],[0.8888888888888888,\"#fdca26\"],[1.0,\"#f0f921\"]]}],\"heatmap\":[{\"type\":\"heatmap\",\"colorbar\":{\"outlinewidth\":0,\"ticks\":\"\"},\"colorscale\":[[0.0,\"#0d0887\"],[0.1111111111111111,\"#46039f\"],[0.2222222222222222,\"#7201a8\"],[0.3333333333333333,\"#9c179e\"],[0.4444444444444444,\"#bd3786\"],[0.5555555555555556,\"#d8576b\"],[0.6666666666666666,\"#ed7953\"],[0.7777777777777778,\"#fb9f3a\"],[0.8888888888888888,\"#fdca26\"],[1.0,\"#f0f921\"]]}],\"contourcarpet\":[{\"type\":\"contourcarpet\",\"colorbar\":{\"outlinewidth\":0,\"ticks\":\"\"}}],\"contour\":[{\"type\":\"contour\",\"colorbar\":{\"outlinewidth\":0,\"ticks\":\"\"},\"colorscale\":[[0.0,\"#0d0887\"],[0.1111111111111111,\"#46039f\"],[0.2222222222222222,\"#7201a8\"],[0.3333333333333333,\"#9c179e\"],[0.4444444444444444,\"#bd3786\"],[0.5555555555555556,\"#d8576b\"],[0.6666666666666666,\"#ed7953\"],[0.7777777777777778,\"#fb9f3a\"],[0.8888888888888888,\"#fdca26\"],[1.0,\"#f0f921\"]]}],\"surface\":[{\"type\":\"surface\",\"colorbar\":{\"outlinewidth\":0,\"ticks\":\"\"},\"colorscale\":[[0.0,\"#0d0887\"],[0.1111111111111111,\"#46039f\"],[0.2222222222222222,\"#7201a8\"],[0.3333333333333333,\"#9c179e\"],[0.4444444444444444,\"#bd3786\"],[0.5555555555555556,\"#d8576b\"],[0.6666666666666666,\"#ed7953\"],[0.7777777777777778,\"#fb9f3a\"],[0.8888888888888888,\"#fdca26\"],[1.0,\"#f0f921\"]]}],\"mesh3d\":[{\"type\":\"mesh3d\",\"colorbar\":{\"outlinewidth\":0,\"ticks\":\"\"}}],\"scatter\":[{\"fillpattern\":{\"fillmode\":\"overlay\",\"size\":10,\"solidity\":0.2},\"type\":\"scatter\"}],\"parcoords\":[{\"type\":\"parcoords\",\"line\":{\"colorbar\":{\"outlinewidth\":0,\"ticks\":\"\"}}}],\"scatterpolargl\":[{\"type\":\"scatterpolargl\",\"marker\":{\"colorbar\":{\"outlinewidth\":0,\"ticks\":\"\"}}}],\"bar\":[{\"error_x\":{\"color\":\"#2a3f5f\"},\"error_y\":{\"color\":\"#2a3f5f\"},\"marker\":{\"line\":{\"color\":\"#E5ECF6\",\"width\":0.5},\"pattern\":{\"fillmode\":\"overlay\",\"size\":10,\"solidity\":0.2}},\"type\":\"bar\"}],\"scattergeo\":[{\"type\":\"scattergeo\",\"marker\":{\"colorbar\":{\"outlinewidth\":0,\"ticks\":\"\"}}}],\"scatterpolar\":[{\"type\":\"scatterpolar\",\"marker\":{\"colorbar\":{\"outlinewidth\":0,\"ticks\":\"\"}}}],\"histogram\":[{\"marker\":{\"pattern\":{\"fillmode\":\"overlay\",\"size\":10,\"solidity\":0.2}},\"type\":\"histogram\"}],\"scattergl\":[{\"type\":\"scattergl\",\"marker\":{\"colorbar\":{\"outlinewidth\":0,\"ticks\":\"\"}}}],\"scatter3d\":[{\"type\":\"scatter3d\",\"line\":{\"colorbar\":{\"outlinewidth\":0,\"ticks\":\"\"}},\"marker\":{\"colorbar\":{\"outlinewidth\":0,\"ticks\":\"\"}}}],\"scattermap\":[{\"type\":\"scattermap\",\"marker\":{\"colorbar\":{\"outlinewidth\":0,\"ticks\":\"\"}}}],\"scattermapbox\":[{\"type\":\"scattermapbox\",\"marker\":{\"colorbar\":{\"outlinewidth\":0,\"ticks\":\"\"}}}],\"scatterternary\":[{\"type\":\"scatterternary\",\"marker\":{\"colorbar\":{\"outlinewidth\":0,\"ticks\":\"\"}}}],\"scattercarpet\":[{\"type\":\"scattercarpet\",\"marker\":{\"colorbar\":{\"outlinewidth\":0,\"ticks\":\"\"}}}],\"carpet\":[{\"aaxis\":{\"endlinecolor\":\"#2a3f5f\",\"gridcolor\":\"white\",\"linecolor\":\"white\",\"minorgridcolor\":\"white\",\"startlinecolor\":\"#2a3f5f\"},\"baxis\":{\"endlinecolor\":\"#2a3f5f\",\"gridcolor\":\"white\",\"linecolor\":\"white\",\"minorgridcolor\":\"white\",\"startlinecolor\":\"#2a3f5f\"},\"type\":\"carpet\"}],\"table\":[{\"cells\":{\"fill\":{\"color\":\"#EBF0F8\"},\"line\":{\"color\":\"white\"}},\"header\":{\"fill\":{\"color\":\"#C8D4E3\"},\"line\":{\"color\":\"white\"}},\"type\":\"table\"}],\"barpolar\":[{\"marker\":{\"line\":{\"color\":\"#E5ECF6\",\"width\":0.5},\"pattern\":{\"fillmode\":\"overlay\",\"size\":10,\"solidity\":0.2}},\"type\":\"barpolar\"}],\"pie\":[{\"automargin\":true,\"type\":\"pie\"}]},\"layout\":{\"autotypenumbers\":\"strict\",\"colorway\":[\"#636efa\",\"#EF553B\",\"#00cc96\",\"#ab63fa\",\"#FFA15A\",\"#19d3f3\",\"#FF6692\",\"#B6E880\",\"#FF97FF\",\"#FECB52\"],\"font\":{\"color\":\"#2a3f5f\"},\"hovermode\":\"closest\",\"hoverlabel\":{\"align\":\"left\"},\"paper_bgcolor\":\"white\",\"plot_bgcolor\":\"#E5ECF6\",\"polar\":{\"bgcolor\":\"#E5ECF6\",\"angularaxis\":{\"gridcolor\":\"white\",\"linecolor\":\"white\",\"ticks\":\"\"},\"radialaxis\":{\"gridcolor\":\"white\",\"linecolor\":\"white\",\"ticks\":\"\"}},\"ternary\":{\"bgcolor\":\"#E5ECF6\",\"aaxis\":{\"gridcolor\":\"white\",\"linecolor\":\"white\",\"ticks\":\"\"},\"baxis\":{\"gridcolor\":\"white\",\"linecolor\":\"white\",\"ticks\":\"\"},\"caxis\":{\"gridcolor\":\"white\",\"linecolor\":\"white\",\"ticks\":\"\"}},\"coloraxis\":{\"colorbar\":{\"outlinewidth\":0,\"ticks\":\"\"}},\"colorscale\":{\"sequential\":[[0.0,\"#0d0887\"],[0.1111111111111111,\"#46039f\"],[0.2222222222222222,\"#7201a8\"],[0.3333333333333333,\"#9c179e\"],[0.4444444444444444,\"#bd3786\"],[0.5555555555555556,\"#d8576b\"],[0.6666666666666666,\"#ed7953\"],[0.7777777777777778,\"#fb9f3a\"],[0.8888888888888888,\"#fdca26\"],[1.0,\"#f0f921\"]],\"sequentialminus\":[[0.0,\"#0d0887\"],[0.1111111111111111,\"#46039f\"],[0.2222222222222222,\"#7201a8\"],[0.3333333333333333,\"#9c179e\"],[0.4444444444444444,\"#bd3786\"],[0.5555555555555556,\"#d8576b\"],[0.6666666666666666,\"#ed7953\"],[0.7777777777777778,\"#fb9f3a\"],[0.8888888888888888,\"#fdca26\"],[1.0,\"#f0f921\"]],\"diverging\":[[0,\"#8e0152\"],[0.1,\"#c51b7d\"],[0.2,\"#de77ae\"],[0.3,\"#f1b6da\"],[0.4,\"#fde0ef\"],[0.5,\"#f7f7f7\"],[0.6,\"#e6f5d0\"],[0.7,\"#b8e186\"],[0.8,\"#7fbc41\"],[0.9,\"#4d9221\"],[1,\"#276419\"]]},\"xaxis\":{\"gridcolor\":\"white\",\"linecolor\":\"white\",\"ticks\":\"\",\"title\":{\"standoff\":15},\"zerolinecolor\":\"white\",\"automargin\":true,\"zerolinewidth\":2},\"yaxis\":{\"gridcolor\":\"white\",\"linecolor\":\"white\",\"ticks\":\"\",\"title\":{\"standoff\":15},\"zerolinecolor\":\"white\",\"automargin\":true,\"zerolinewidth\":2},\"scene\":{\"xaxis\":{\"backgroundcolor\":\"#E5ECF6\",\"gridcolor\":\"white\",\"linecolor\":\"white\",\"showbackground\":true,\"ticks\":\"\",\"zerolinecolor\":\"white\",\"gridwidth\":2},\"yaxis\":{\"backgroundcolor\":\"#E5ECF6\",\"gridcolor\":\"white\",\"linecolor\":\"white\",\"showbackground\":true,\"ticks\":\"\",\"zerolinecolor\":\"white\",\"gridwidth\":2},\"zaxis\":{\"backgroundcolor\":\"#E5ECF6\",\"gridcolor\":\"white\",\"linecolor\":\"white\",\"showbackground\":true,\"ticks\":\"\",\"zerolinecolor\":\"white\",\"gridwidth\":2}},\"shapedefaults\":{\"line\":{\"color\":\"#2a3f5f\"}},\"annotationdefaults\":{\"arrowcolor\":\"#2a3f5f\",\"arrowhead\":0,\"arrowwidth\":1},\"geo\":{\"bgcolor\":\"white\",\"landcolor\":\"#E5ECF6\",\"subunitcolor\":\"white\",\"showland\":true,\"showlakes\":true,\"lakecolor\":\"white\"},\"title\":{\"x\":0.05},\"mapbox\":{\"style\":\"light\"}}},\"yaxis\":{\"range\":[0,0.025176274181690838]}},                        {\"responsive\": true}                    ).then(function(){\n",
       "                            \n",
       "var gd = document.getElementById('89de125a-336c-4fc6-9407-1bb0d315af42');\n",
       "var x = new MutationObserver(function (mutations, observer) {{\n",
       "        var display = window.getComputedStyle(gd).display;\n",
       "        if (!display || display === 'none') {{\n",
       "            console.log([gd, 'removed!']);\n",
       "            Plotly.purge(gd);\n",
       "            observer.disconnect();\n",
       "        }}\n",
       "}});\n",
       "\n",
       "// Listen for the removal of the full notebook cells\n",
       "var notebookContainer = gd.closest('#notebook-container');\n",
       "if (notebookContainer) {{\n",
       "    x.observe(notebookContainer, {childList: true});\n",
       "}}\n",
       "\n",
       "// Listen for the clearing of the current output cell\n",
       "var outputEl = gd.closest('.output');\n",
       "if (outputEl) {{\n",
       "    x.observe(outputEl, {childList: true});\n",
       "}}\n",
       "\n",
       "                        })                };            </script>        </div>"
      ]
     },
     "metadata": {},
     "output_type": "display_data"
    }
   ],
   "source": [
    "fig = go.Figure()\n",
    "for k, _ in enumerate(p_orders):\n",
    "    fig.add_trace(\n",
    "        go.Scatter(x=x_range, y=y_minkowski[k], mode=\"lines\", name=f\"Minkowski {_}\")\n",
    "    )\n",
    "fig.update_yaxes(range=[0, np.max(y_minkowski[2])])\n",
    "fig.show()"
   ]
  },
  {
   "cell_type": "markdown",
   "metadata": {},
   "source": [
    "As seen above, the Minkowski cost allows for a range of different cost functions to be created. This provides users with another hyperparameter to calibrate for optimisation algorithm convergence. This addition does expand the global search space, and should be carefully considered before deciding upon.\n",
    "\n",
    "### Sum of Power\n",
    "Next, we introduce a similar cost function, the `SumOfPower` implementation. This cost function is the $p$-th power of the Minkowski distance of order $p$. It provides a generalised formulation for the Sum of Squared Errors (SSE) cost function, and is given by,\n",
    "\n",
    "$\\mathcal{L_p} = \\displaystyle \\sum_i  |\\hat{y_i}-y_i|^p$\n",
    "\n",
    "where $p ≥ 0$ is the power order. A few special cases include,\n",
    "\n",
    "$p = 1$: Sum of Absolute Differences\n",
    "$p = 2$: Sum of Squared Differences\n",
    "\n",
    "Next we repeat the above examples with the addition of the `SumOfPower` class."
   ]
  },
  {
   "cell_type": "code",
   "execution_count": null,
   "metadata": {},
   "outputs": [],
   "source": [
    "cost_sumofpower = pybop.SumOfPower(problem, p=2)"
   ]
  },
  {
   "cell_type": "code",
   "execution_count": null,
   "metadata": {},
   "outputs": [
    {
     "data": {
      "text/html": [
       "<div>            <script src=\"https://cdnjs.cloudflare.com/ajax/libs/mathjax/2.7.5/MathJax.js?config=TeX-AMS-MML_SVG\"></script><script type=\"text/javascript\">if (window.MathJax && window.MathJax.Hub && window.MathJax.Hub.Config) {window.MathJax.Hub.Config({SVG: {font: \"STIX-Web\"}});}</script>                <script type=\"text/javascript\">window.PlotlyConfig = {MathJaxConfig: 'local'};</script>\n",
       "        <script charset=\"utf-8\" src=\"https://cdn.plot.ly/plotly-3.0.1.min.js\"></script>                <div id=\"efebbb7e-f9de-4919-b851-a978407159b0\" class=\"plotly-graph-div\" style=\"height:525px; width:100%;\"></div>            <script type=\"text/javascript\">                window.PLOTLYENV=window.PLOTLYENV || {};                                if (document.getElementById(\"efebbb7e-f9de-4919-b851-a978407159b0\")) {                    Plotly.newPlot(                        \"efebbb7e-f9de-4919-b851-a978407159b0\",                        [{\"mode\":\"lines\",\"name\":\"RMSE*N\",\"x\":{\"dtype\":\"f8\",\"bdata\":\"RcGEuA\\u002fM0z6qqVZ5+eHTPhCSKDrj99M+dXr6+swN1D7aYsy7tiPUPkBLnnygOdQ+pTNwPYpP1D4KHEL+c2XUPm8EFL9de9Q+1ezlf0eR1D461bdAMafUPp+9iQEbvdQ+BaZbwgTT1D5qji2D7ujUPs92\\u002f0PY\\u002ftQ+NV\\u002fRBMIU1T6aR6PFqyrVPv8vdYaVQNU+ZBhHR39W1T7KABkIaWzVPi\\u002fp6shSgtU+lNG8iTyY1T76uY5KJq7VPl+iYAsQxNU+xIoyzPnZ1T4qcwSN4+\\u002fVPo9b1k3NBdY+9EOoDrcb1j5aLHrPoDHWPr8UTJCKR9Y+JP0dUXRd1j6K5e8RXnPWPu\\u002fNwdJHidY+VLaTkzGf1j65nmVUG7XWPh+HNxUFy9Y+hG8J1u7g1j7pV9uW2PbWPk9ArVfCDNc+tCh\\u002fGKwi1z4ZEVHZlTjXPn75Ipp\\u002fTtc+5OH0Wmlk1z5JysYbU3rXPq6ymNw8kNc+FJtqnSam1z55gzxeELzXPt5rDh\\u002f60dc+RFTg3+Pn1z6pPLKgzf3XPg==\"},\"y\":{\"dtype\":\"f8\",\"bdata\":\"g7KeN2Eblz8l4ZndyzeWPwAjuiINU5U\\u002f4MRfFSRtlD+NRhvdD4aTP8P3brrPnZI\\u002fbVaUBmO0kT9dUO3bHMqQP8yaP7CqvI8\\u002fQWoszr\\u002fijT8wKS6HeAaMPykptYHUJ4o\\u002fambfldNGiD9PdQrPdWOGP+FRr267fYQ\\u002fnSl98aSVgj\\u002f5CpAYM6uAP3kGKvXNfH0\\u002fv+\\u002fQSoSeeT\\u002fyrDf9ObN1P0lPtRuzy3E\\u002fUuYHNvm+az+ZJ9RPMt1jP30GpeAu5Fc\\u002fNm84kHjtPz8Xysgj\\u002fv8\\u002fP3TQ9gbbDVg\\u002fsoIgFRIXZD\\u002ff9kvgZDBsP98ByGVuKXI\\u002fRaoNIDg\\u002fdj+Rvk6Will6P19fGIRgeH4\\u002fg7pNNdpNgT94og5JwGGDPwG+sYXfd4U\\u002fIIiP2DSQhz8kfKoUvaqJP+CoYfN0x4s\\u002f6aYiFVnmjT8GwwwBswOQPxb0bxVMFZE\\u002fviSV9PUnkj8ExjnArjuTP47jU490UJQ\\u002fEgxmbkVmlT+KEdNfH32WP+OtMFwAlZc\\u002fR\\u002fGYUuatmD8TYvsoz8eZPw==\"},\"type\":\"scatter\"},{\"line\":{\"dash\":\"dash\"},\"mode\":\"lines\",\"name\":\"SSE\",\"x\":{\"dtype\":\"f8\",\"bdata\":\"RcGEuA\\u002fM0z6qqVZ5+eHTPhCSKDrj99M+dXr6+swN1D7aYsy7tiPUPkBLnnygOdQ+pTNwPYpP1D4KHEL+c2XUPm8EFL9de9Q+1ezlf0eR1D461bdAMafUPp+9iQEbvdQ+BaZbwgTT1D5qji2D7ujUPs92\\u002f0PY\\u002ftQ+NV\\u002fRBMIU1T6aR6PFqyrVPv8vdYaVQNU+ZBhHR39W1T7KABkIaWzVPi\\u002fp6shSgtU+lNG8iTyY1T76uY5KJq7VPl+iYAsQxNU+xIoyzPnZ1T4qcwSN4+\\u002fVPo9b1k3NBdY+9EOoDrcb1j5aLHrPoDHWPr8UTJCKR9Y+JP0dUXRd1j6K5e8RXnPWPu\\u002fNwdJHidY+VLaTkzGf1j65nmVUG7XWPh+HNxUFy9Y+hG8J1u7g1j7pV9uW2PbWPk9ArVfCDNc+tCh\\u002fGKwi1z4ZEVHZlTjXPn75Ipp\\u002fTtc+5OH0Wmlk1z5JysYbU3rXPq6ymNw8kNc+FJtqnSam1z55gzxeELzXPt5rDh\\u002f60dc+RFTg3+Pn1z6pPLKgzf3XPg==\"},\"y\":[0.0005091965088676593,0.00047076940711665826,0.0004336651359000377,0.0003979063343565089,0.00036351591452914086,0.00033051704911235075,0.0002989331591867578,0.00026882877932563683,0.00024014374440747626,0.00021294532026837573,0.00018725779752316505,0.00016310565400660352,0.00014051354262854937,0.0001195062792781006,0.00010010883077476412,8.234630287494974e-05,6.624392834478907e-05,5.182705509810732e-05,3.912113441203972e-05,2.806749915996959e-05,1.887601613267725e-05,1.1471509484968709e-05,5.8797067492200605e-06,2.1263813266581513e-06,2.3734126621655455e-07,2.384181561372721e-07,2.1554561318868725e-06,6.014301005799613e-06,1.1840789522635539e-05,1.966073874490263e-05,2.9499935573191055e-05,4.1384126403196885e-05,5.533900692689857e-05,7.13902120762697e-05,8.956330611858263e-05,0.00010988377290203136,0.0001323770062573796,0.00015706830055818257,0.00018398284144055093,0.00021314569668827628,0.0002445818072820727,0.00027831597861894164,0.00031437287190098483,0.00035277699569566796,0.000393552697673758,0.0004367241565175198,0.0004823153740119955,0.0005303501673132962,0.0005808521613933574,0.0006338447816716728],\"type\":\"scatter\"},{\"line\":{\"dash\":\"dot\"},\"mode\":\"lines\",\"name\":\"Sum of Power\",\"x\":{\"dtype\":\"f8\",\"bdata\":\"RcGEuA\\u002fM0z6qqVZ5+eHTPhCSKDrj99M+dXr6+swN1D7aYsy7tiPUPkBLnnygOdQ+pTNwPYpP1D4KHEL+c2XUPm8EFL9de9Q+1ezlf0eR1D461bdAMafUPp+9iQEbvdQ+BaZbwgTT1D5qji2D7ujUPs92\\u002f0PY\\u002ftQ+NV\\u002fRBMIU1T6aR6PFqyrVPv8vdYaVQNU+ZBhHR39W1T7KABkIaWzVPi\\u002fp6shSgtU+lNG8iTyY1T76uY5KJq7VPl+iYAsQxNU+xIoyzPnZ1T4qcwSN4+\\u002fVPo9b1k3NBdY+9EOoDrcb1j5aLHrPoDHWPr8UTJCKR9Y+JP0dUXRd1j6K5e8RXnPWPu\\u002fNwdJHidY+VLaTkzGf1j65nmVUG7XWPh+HNxUFy9Y+hG8J1u7g1j7pV9uW2PbWPk9ArVfCDNc+tCh\\u002fGKwi1z4ZEVHZlTjXPn75Ipp\\u002fTtc+5OH0Wmlk1z5JysYbU3rXPq6ymNw8kNc+FJtqnSam1z55gzxeELzXPt5rDh\\u002f60dc+RFTg3+Pn1z6pPLKgzf3XPg==\"},\"y\":[0.0005091965088676593,0.00047076940711665826,0.0004336651359000377,0.0003979063343565089,0.00036351591452914086,0.00033051704911235075,0.0002989331591867578,0.00026882877932563683,0.00024014374440747626,0.00021294532026837573,0.00018725779752316505,0.00016310565400660352,0.00014051354262854937,0.0001195062792781006,0.00010010883077476412,8.234630287494974e-05,6.624392834478907e-05,5.182705509810732e-05,3.912113441203972e-05,2.806749915996959e-05,1.887601613267725e-05,1.1471509484968709e-05,5.8797067492200605e-06,2.1263813266581513e-06,2.3734126621655455e-07,2.384181561372721e-07,2.1554561318868725e-06,6.014301005799613e-06,1.1840789522635539e-05,1.966073874490263e-05,2.9499935573191055e-05,4.1384126403196885e-05,5.533900692689857e-05,7.13902120762697e-05,8.956330611858263e-05,0.00010988377290203136,0.0001323770062573796,0.00015706830055818257,0.00018398284144055093,0.00021314569668827628,0.0002445818072820727,0.00027831597861894164,0.00031437287190098483,0.00035277699569566796,0.000393552697673758,0.0004367241565175198,0.0004823153740119955,0.0005303501673132962,0.0005808521613933574,0.0006338447816716728],\"type\":\"scatter\"}],                        {\"template\":{\"data\":{\"histogram2dcontour\":[{\"type\":\"histogram2dcontour\",\"colorbar\":{\"outlinewidth\":0,\"ticks\":\"\"},\"colorscale\":[[0.0,\"#0d0887\"],[0.1111111111111111,\"#46039f\"],[0.2222222222222222,\"#7201a8\"],[0.3333333333333333,\"#9c179e\"],[0.4444444444444444,\"#bd3786\"],[0.5555555555555556,\"#d8576b\"],[0.6666666666666666,\"#ed7953\"],[0.7777777777777778,\"#fb9f3a\"],[0.8888888888888888,\"#fdca26\"],[1.0,\"#f0f921\"]]}],\"choropleth\":[{\"type\":\"choropleth\",\"colorbar\":{\"outlinewidth\":0,\"ticks\":\"\"}}],\"histogram2d\":[{\"type\":\"histogram2d\",\"colorbar\":{\"outlinewidth\":0,\"ticks\":\"\"},\"colorscale\":[[0.0,\"#0d0887\"],[0.1111111111111111,\"#46039f\"],[0.2222222222222222,\"#7201a8\"],[0.3333333333333333,\"#9c179e\"],[0.4444444444444444,\"#bd3786\"],[0.5555555555555556,\"#d8576b\"],[0.6666666666666666,\"#ed7953\"],[0.7777777777777778,\"#fb9f3a\"],[0.8888888888888888,\"#fdca26\"],[1.0,\"#f0f921\"]]}],\"heatmap\":[{\"type\":\"heatmap\",\"colorbar\":{\"outlinewidth\":0,\"ticks\":\"\"},\"colorscale\":[[0.0,\"#0d0887\"],[0.1111111111111111,\"#46039f\"],[0.2222222222222222,\"#7201a8\"],[0.3333333333333333,\"#9c179e\"],[0.4444444444444444,\"#bd3786\"],[0.5555555555555556,\"#d8576b\"],[0.6666666666666666,\"#ed7953\"],[0.7777777777777778,\"#fb9f3a\"],[0.8888888888888888,\"#fdca26\"],[1.0,\"#f0f921\"]]}],\"contourcarpet\":[{\"type\":\"contourcarpet\",\"colorbar\":{\"outlinewidth\":0,\"ticks\":\"\"}}],\"contour\":[{\"type\":\"contour\",\"colorbar\":{\"outlinewidth\":0,\"ticks\":\"\"},\"colorscale\":[[0.0,\"#0d0887\"],[0.1111111111111111,\"#46039f\"],[0.2222222222222222,\"#7201a8\"],[0.3333333333333333,\"#9c179e\"],[0.4444444444444444,\"#bd3786\"],[0.5555555555555556,\"#d8576b\"],[0.6666666666666666,\"#ed7953\"],[0.7777777777777778,\"#fb9f3a\"],[0.8888888888888888,\"#fdca26\"],[1.0,\"#f0f921\"]]}],\"surface\":[{\"type\":\"surface\",\"colorbar\":{\"outlinewidth\":0,\"ticks\":\"\"},\"colorscale\":[[0.0,\"#0d0887\"],[0.1111111111111111,\"#46039f\"],[0.2222222222222222,\"#7201a8\"],[0.3333333333333333,\"#9c179e\"],[0.4444444444444444,\"#bd3786\"],[0.5555555555555556,\"#d8576b\"],[0.6666666666666666,\"#ed7953\"],[0.7777777777777778,\"#fb9f3a\"],[0.8888888888888888,\"#fdca26\"],[1.0,\"#f0f921\"]]}],\"mesh3d\":[{\"type\":\"mesh3d\",\"colorbar\":{\"outlinewidth\":0,\"ticks\":\"\"}}],\"scatter\":[{\"fillpattern\":{\"fillmode\":\"overlay\",\"size\":10,\"solidity\":0.2},\"type\":\"scatter\"}],\"parcoords\":[{\"type\":\"parcoords\",\"line\":{\"colorbar\":{\"outlinewidth\":0,\"ticks\":\"\"}}}],\"scatterpolargl\":[{\"type\":\"scatterpolargl\",\"marker\":{\"colorbar\":{\"outlinewidth\":0,\"ticks\":\"\"}}}],\"bar\":[{\"error_x\":{\"color\":\"#2a3f5f\"},\"error_y\":{\"color\":\"#2a3f5f\"},\"marker\":{\"line\":{\"color\":\"#E5ECF6\",\"width\":0.5},\"pattern\":{\"fillmode\":\"overlay\",\"size\":10,\"solidity\":0.2}},\"type\":\"bar\"}],\"scattergeo\":[{\"type\":\"scattergeo\",\"marker\":{\"colorbar\":{\"outlinewidth\":0,\"ticks\":\"\"}}}],\"scatterpolar\":[{\"type\":\"scatterpolar\",\"marker\":{\"colorbar\":{\"outlinewidth\":0,\"ticks\":\"\"}}}],\"histogram\":[{\"marker\":{\"pattern\":{\"fillmode\":\"overlay\",\"size\":10,\"solidity\":0.2}},\"type\":\"histogram\"}],\"scattergl\":[{\"type\":\"scattergl\",\"marker\":{\"colorbar\":{\"outlinewidth\":0,\"ticks\":\"\"}}}],\"scatter3d\":[{\"type\":\"scatter3d\",\"line\":{\"colorbar\":{\"outlinewidth\":0,\"ticks\":\"\"}},\"marker\":{\"colorbar\":{\"outlinewidth\":0,\"ticks\":\"\"}}}],\"scattermap\":[{\"type\":\"scattermap\",\"marker\":{\"colorbar\":{\"outlinewidth\":0,\"ticks\":\"\"}}}],\"scattermapbox\":[{\"type\":\"scattermapbox\",\"marker\":{\"colorbar\":{\"outlinewidth\":0,\"ticks\":\"\"}}}],\"scatterternary\":[{\"type\":\"scatterternary\",\"marker\":{\"colorbar\":{\"outlinewidth\":0,\"ticks\":\"\"}}}],\"scattercarpet\":[{\"type\":\"scattercarpet\",\"marker\":{\"colorbar\":{\"outlinewidth\":0,\"ticks\":\"\"}}}],\"carpet\":[{\"aaxis\":{\"endlinecolor\":\"#2a3f5f\",\"gridcolor\":\"white\",\"linecolor\":\"white\",\"minorgridcolor\":\"white\",\"startlinecolor\":\"#2a3f5f\"},\"baxis\":{\"endlinecolor\":\"#2a3f5f\",\"gridcolor\":\"white\",\"linecolor\":\"white\",\"minorgridcolor\":\"white\",\"startlinecolor\":\"#2a3f5f\"},\"type\":\"carpet\"}],\"table\":[{\"cells\":{\"fill\":{\"color\":\"#EBF0F8\"},\"line\":{\"color\":\"white\"}},\"header\":{\"fill\":{\"color\":\"#C8D4E3\"},\"line\":{\"color\":\"white\"}},\"type\":\"table\"}],\"barpolar\":[{\"marker\":{\"line\":{\"color\":\"#E5ECF6\",\"width\":0.5},\"pattern\":{\"fillmode\":\"overlay\",\"size\":10,\"solidity\":0.2}},\"type\":\"barpolar\"}],\"pie\":[{\"automargin\":true,\"type\":\"pie\"}]},\"layout\":{\"autotypenumbers\":\"strict\",\"colorway\":[\"#636efa\",\"#EF553B\",\"#00cc96\",\"#ab63fa\",\"#FFA15A\",\"#19d3f3\",\"#FF6692\",\"#B6E880\",\"#FF97FF\",\"#FECB52\"],\"font\":{\"color\":\"#2a3f5f\"},\"hovermode\":\"closest\",\"hoverlabel\":{\"align\":\"left\"},\"paper_bgcolor\":\"white\",\"plot_bgcolor\":\"#E5ECF6\",\"polar\":{\"bgcolor\":\"#E5ECF6\",\"angularaxis\":{\"gridcolor\":\"white\",\"linecolor\":\"white\",\"ticks\":\"\"},\"radialaxis\":{\"gridcolor\":\"white\",\"linecolor\":\"white\",\"ticks\":\"\"}},\"ternary\":{\"bgcolor\":\"#E5ECF6\",\"aaxis\":{\"gridcolor\":\"white\",\"linecolor\":\"white\",\"ticks\":\"\"},\"baxis\":{\"gridcolor\":\"white\",\"linecolor\":\"white\",\"ticks\":\"\"},\"caxis\":{\"gridcolor\":\"white\",\"linecolor\":\"white\",\"ticks\":\"\"}},\"coloraxis\":{\"colorbar\":{\"outlinewidth\":0,\"ticks\":\"\"}},\"colorscale\":{\"sequential\":[[0.0,\"#0d0887\"],[0.1111111111111111,\"#46039f\"],[0.2222222222222222,\"#7201a8\"],[0.3333333333333333,\"#9c179e\"],[0.4444444444444444,\"#bd3786\"],[0.5555555555555556,\"#d8576b\"],[0.6666666666666666,\"#ed7953\"],[0.7777777777777778,\"#fb9f3a\"],[0.8888888888888888,\"#fdca26\"],[1.0,\"#f0f921\"]],\"sequentialminus\":[[0.0,\"#0d0887\"],[0.1111111111111111,\"#46039f\"],[0.2222222222222222,\"#7201a8\"],[0.3333333333333333,\"#9c179e\"],[0.4444444444444444,\"#bd3786\"],[0.5555555555555556,\"#d8576b\"],[0.6666666666666666,\"#ed7953\"],[0.7777777777777778,\"#fb9f3a\"],[0.8888888888888888,\"#fdca26\"],[1.0,\"#f0f921\"]],\"diverging\":[[0,\"#8e0152\"],[0.1,\"#c51b7d\"],[0.2,\"#de77ae\"],[0.3,\"#f1b6da\"],[0.4,\"#fde0ef\"],[0.5,\"#f7f7f7\"],[0.6,\"#e6f5d0\"],[0.7,\"#b8e186\"],[0.8,\"#7fbc41\"],[0.9,\"#4d9221\"],[1,\"#276419\"]]},\"xaxis\":{\"gridcolor\":\"white\",\"linecolor\":\"white\",\"ticks\":\"\",\"title\":{\"standoff\":15},\"zerolinecolor\":\"white\",\"automargin\":true,\"zerolinewidth\":2},\"yaxis\":{\"gridcolor\":\"white\",\"linecolor\":\"white\",\"ticks\":\"\",\"title\":{\"standoff\":15},\"zerolinecolor\":\"white\",\"automargin\":true,\"zerolinewidth\":2},\"scene\":{\"xaxis\":{\"backgroundcolor\":\"#E5ECF6\",\"gridcolor\":\"white\",\"linecolor\":\"white\",\"showbackground\":true,\"ticks\":\"\",\"zerolinecolor\":\"white\",\"gridwidth\":2},\"yaxis\":{\"backgroundcolor\":\"#E5ECF6\",\"gridcolor\":\"white\",\"linecolor\":\"white\",\"showbackground\":true,\"ticks\":\"\",\"zerolinecolor\":\"white\",\"gridwidth\":2},\"zaxis\":{\"backgroundcolor\":\"#E5ECF6\",\"gridcolor\":\"white\",\"linecolor\":\"white\",\"showbackground\":true,\"ticks\":\"\",\"zerolinecolor\":\"white\",\"gridwidth\":2}},\"shapedefaults\":{\"line\":{\"color\":\"#2a3f5f\"}},\"annotationdefaults\":{\"arrowcolor\":\"#2a3f5f\",\"arrowhead\":0,\"arrowwidth\":1},\"geo\":{\"bgcolor\":\"white\",\"landcolor\":\"#E5ECF6\",\"subunitcolor\":\"white\",\"showland\":true,\"showlakes\":true,\"lakecolor\":\"white\"},\"title\":{\"x\":0.05},\"mapbox\":{\"style\":\"light\"}}}},                        {\"responsive\": true}                    ).then(function(){\n",
       "                            \n",
       "var gd = document.getElementById('efebbb7e-f9de-4919-b851-a978407159b0');\n",
       "var x = new MutationObserver(function (mutations, observer) {{\n",
       "        var display = window.getComputedStyle(gd).display;\n",
       "        if (!display || display === 'none') {{\n",
       "            console.log([gd, 'removed!']);\n",
       "            Plotly.purge(gd);\n",
       "            observer.disconnect();\n",
       "        }}\n",
       "}});\n",
       "\n",
       "// Listen for the removal of the full notebook cells\n",
       "var notebookContainer = gd.closest('#notebook-container');\n",
       "if (notebookContainer) {{\n",
       "    x.observe(notebookContainer, {childList: true});\n",
       "}}\n",
       "\n",
       "// Listen for the clearing of the current output cell\n",
       "var outputEl = gd.closest('.output');\n",
       "if (outputEl) {{\n",
       "    x.observe(outputEl, {childList: true});\n",
       "}}\n",
       "\n",
       "                        })                };            </script>        </div>"
      ]
     },
     "metadata": {},
     "output_type": "display_data"
    }
   ],
   "source": [
    "y_sumofpower = []\n",
    "for i in x_range:\n",
    "    y_sumofpower.append(cost_sumofpower([7.56e-05, i]))\n",
    "\n",
    "fig = go.Figure()\n",
    "fig.add_trace(\n",
    "    go.Scatter(\n",
    "        x=x_range,\n",
    "        y=np.asarray(y_RMSE) * np.sqrt(len(t_eval)),\n",
    "        mode=\"lines\",\n",
    "        name=\"RMSE*N\",\n",
    "    )\n",
    ")\n",
    "fig.add_trace(\n",
    "    go.Scatter(\n",
    "        x=x_range,\n",
    "        y=y_SSE,\n",
    "        mode=\"lines\",\n",
    "        line=dict(dash=\"dash\"),\n",
    "        name=\"SSE\",\n",
    "    )\n",
    ")\n",
    "fig.add_trace(\n",
    "    go.Scatter(\n",
    "        x=x_range,\n",
    "        y=y_sumofpower,\n",
    "        mode=\"lines\",\n",
    "        line=dict(dash=\"dot\"),\n",
    "        name=\"Sum of Power\",\n",
    "    )\n",
    ")\n",
    "fig.show()"
   ]
  },
  {
   "cell_type": "markdown",
   "metadata": {},
   "source": [
    "As expected, the `SumOfPower` with order `p=2` equates to the `SSE` implementation. Next, we compare the `Minkowski` to the `SumOfPower`,"
   ]
  },
  {
   "cell_type": "code",
   "execution_count": null,
   "metadata": {},
   "outputs": [],
   "source": [
    "p_orders = np.asarray([0.75, 2])\n",
    "\n",
    "y_minkowski = tuple(\n",
    "    [pybop.Minkowski(problem, p=j)([7.56e-05, i]) for i in x_range] for j in p_orders\n",
    ")\n",
    "\n",
    "y_sumofpower = tuple(\n",
    "    [pybop.SumOfPower(problem, p=j)([7.56e-05, i]) for i in x_range] for j in p_orders\n",
    ")"
   ]
  },
  {
   "cell_type": "code",
   "execution_count": null,
   "metadata": {},
   "outputs": [
    {
     "data": {
      "text/html": [
       "<div>            <script src=\"https://cdnjs.cloudflare.com/ajax/libs/mathjax/2.7.5/MathJax.js?config=TeX-AMS-MML_SVG\"></script><script type=\"text/javascript\">if (window.MathJax && window.MathJax.Hub && window.MathJax.Hub.Config) {window.MathJax.Hub.Config({SVG: {font: \"STIX-Web\"}});}</script>                <script type=\"text/javascript\">window.PlotlyConfig = {MathJaxConfig: 'local'};</script>\n",
       "        <script charset=\"utf-8\" src=\"https://cdn.plot.ly/plotly-3.0.1.min.js\"></script>                <div id=\"37a026f7-a6ee-46f2-b723-b3416b8727d5\" class=\"plotly-graph-div\" style=\"height:525px; width:100%;\"></div>            <script type=\"text/javascript\">                window.PLOTLYENV=window.PLOTLYENV || {};                                if (document.getElementById(\"37a026f7-a6ee-46f2-b723-b3416b8727d5\")) {                    Plotly.newPlot(                        \"37a026f7-a6ee-46f2-b723-b3416b8727d5\",                        [{\"mode\":\"lines\",\"name\":\"Minkowski 0.75\",\"x\":{\"dtype\":\"f8\",\"bdata\":\"RcGEuA\\u002fM0z6qqVZ5+eHTPhCSKDrj99M+dXr6+swN1D7aYsy7tiPUPkBLnnygOdQ+pTNwPYpP1D4KHEL+c2XUPm8EFL9de9Q+1ezlf0eR1D461bdAMafUPp+9iQEbvdQ+BaZbwgTT1D5qji2D7ujUPs92\\u002f0PY\\u002ftQ+NV\\u002fRBMIU1T6aR6PFqyrVPv8vdYaVQNU+ZBhHR39W1T7KABkIaWzVPi\\u002fp6shSgtU+lNG8iTyY1T76uY5KJq7VPl+iYAsQxNU+xIoyzPnZ1T4qcwSN4+\\u002fVPo9b1k3NBdY+9EOoDrcb1j5aLHrPoDHWPr8UTJCKR9Y+JP0dUXRd1j6K5e8RXnPWPu\\u002fNwdJHidY+VLaTkzGf1j65nmVUG7XWPh+HNxUFy9Y+hG8J1u7g1j7pV9uW2PbWPk9ArVfCDNc+tCh\\u002fGKwi1z4ZEVHZlTjXPn75Ipp\\u002fTtc+5OH0Wmlk1z5JysYbU3rXPq6ymNw8kNc+FJtqnSam1z55gzxeELzXPt5rDh\\u002f60dc+RFTg3+Pn1z6pPLKgzf3XPg==\"},\"y\":[0.18480815513501792,0.1775443687314772,0.17025854547428826,0.16295048509732024,0.1556199952316228,0.14826689133441703,0.14089099660856777,0.133509212439331,0.1260872187279405,0.11864195036665962,0.1111732605447388,0.10368100957513242,0.09616506466674683,0.08862529961742578,0.0810615943690514,0.0734738343290536,0.06586190927132253,0.0582257114282057,0.050565131927370686,0.04270044108278052,0.034991973710579966,0.02725901612930988,0.019501508513914897,0.011719397660406772,0.003912636905080845,0.003918813957227189,0.01177498875586357,0.019655915026998125,0.02756161409793051,0.03549210117027724,0.043447385405647646,0.05142747000932642,0.05943235231727173,0.06746202388040883,0.07551647055125923,0.08359567257023451,0.09169960465147058,0.09982823607071124,0.10798153075043236,0.11615944734813778,0.12436193934197873,0.13258895511878965,0.1408404380603757,0.1491163266302194,0.15741655446104802,0.1657410504402647,0.17408973879754108,0.18246253919085148,0.19085936679226995,0.19928013237440564],\"type\":\"scatter\"},{\"line\":{\"dash\":\"dash\"},\"mode\":\"lines\",\"name\":\"Sum of Power 0.75\",\"x\":{\"dtype\":\"f8\",\"bdata\":\"RcGEuA\\u002fM0z6qqVZ5+eHTPhCSKDrj99M+dXr6+swN1D7aYsy7tiPUPkBLnnygOdQ+pTNwPYpP1D4KHEL+c2XUPm8EFL9de9Q+1ezlf0eR1D461bdAMafUPp+9iQEbvdQ+BaZbwgTT1D5qji2D7ujUPs92\\u002f0PY\\u002ftQ+NV\\u002fRBMIU1T6aR6PFqyrVPv8vdYaVQNU+ZBhHR39W1T7KABkIaWzVPi\\u002fp6shSgtU+lNG8iTyY1T76uY5KJq7VPl+iYAsQxNU+xIoyzPnZ1T4qcwSN4+\\u002fVPo9b1k3NBdY+9EOoDrcb1j5aLHrPoDHWPr8UTJCKR9Y+JP0dUXRd1j6K5e8RXnPWPu\\u002fNwdJHidY+VLaTkzGf1j65nmVUG7XWPh+HNxUFy9Y+hG8J1u7g1j7pV9uW2PbWPk9ArVfCDNc+tCh\\u002fGKwi1z4ZEVHZlTjXPn75Ipp\\u002fTtc+5OH0Wmlk1z5JysYbU3rXPq6ymNw8kNc+FJtqnSam1z55gzxeELzXPt5rDh\\u002f60dc+RFTg3+Pn1z6pPLKgzf3XPg==\"},\"y\":[0.2818648034416824,0.27351438775195624,0.26505236833844953,0.25647305399277465,0.2477701867977181,0.23893685139561,0.22996536440130566,0.22086831884817965,0.2115939757213236,0.20215230987126134,0.19253081856891635,0.18271508869057193,0.1726883325257415,0.16243076410477664,0.1519187422208983,0.14112356162765832,0.13000969434070142,0.11853213384116462,0.10663219729663759,0.09393431460744706,0.0809051802056394,0.06708611347531511,0.05218565697011127,0.03561877410118722,0.015644156801822566,0.01566267673806343,0.03574541765653547,0.05249524289132759,0.06764387615729006,0.08177090100246182,0.09516401018861727,0.10799318993791418,0.12036970326220278,0.13237151045640222,0.1440559706087246,0.15546686718849,0.1666385958537314,0.17759880858923902,0.18837016136702406,0.1989715132113726,0.20941877481763196,0.21972552513440793,0.22990346954901533,0.23996278707937743,0.2499123979950351,0.2597601732370421,0.2695131005134281,0.27917741762341575,0.28875872064317815,0.29826205257980204],\"type\":\"scatter\"},{\"mode\":\"lines\",\"name\":\"Minkowski 2.0\",\"x\":{\"dtype\":\"f8\",\"bdata\":\"RcGEuA\\u002fM0z6qqVZ5+eHTPhCSKDrj99M+dXr6+swN1D7aYsy7tiPUPkBLnnygOdQ+pTNwPYpP1D4KHEL+c2XUPm8EFL9de9Q+1ezlf0eR1D461bdAMafUPp+9iQEbvdQ+BaZbwgTT1D5qji2D7ujUPs92\\u002f0PY\\u002ftQ+NV\\u002fRBMIU1T6aR6PFqyrVPv8vdYaVQNU+ZBhHR39W1T7KABkIaWzVPi\\u002fp6shSgtU+lNG8iTyY1T76uY5KJq7VPl+iYAsQxNU+xIoyzPnZ1T4qcwSN4+\\u002fVPo9b1k3NBdY+9EOoDrcb1j5aLHrPoDHWPr8UTJCKR9Y+JP0dUXRd1j6K5e8RXnPWPu\\u002fNwdJHidY+VLaTkzGf1j65nmVUG7XWPh+HNxUFy9Y+hG8J1u7g1j7pV9uW2PbWPk9ArVfCDNc+tCh\\u002fGKwi1z4ZEVHZlTjXPn75Ipp\\u002fTtc+5OH0Wmlk1z5JysYbU3rXPq6ymNw8kNc+FJtqnSam1z55gzxeELzXPt5rDh\\u002f60dc+RFTg3+Pn1z6pPLKgzf3XPg==\"},\"y\":[0.02256538297631262,0.02169722118421293,0.020824628109525456,0.019947589687892342,0.019066093321106474,0.018180127862926342,0.017289683605744722,0.016395998881606356,0.015496572021175402,0.014592646102348119,0.013684217095733503,0.012771282394755959,0.01185384083867121,0.010931892758260144,0.010005440059026096,0.009074486369759433,0.008139037310689089,0.007199100992353651,0.006254688994029977,0.0052978768539830735,0.004344653741401868,0.0033869616893269856,0.0024248106625508023,0.0014582116878759926,0.00048717683259423837,0.00048828081688437455,0.0014681471765074755,0.0024524071859704727,0.003441044830082215,0.004434043160018024,0.005431384314628367,0.006433049541484729,0.007439019218075631,0.00844927287263642,0.00946378920510081,0.010482546107794201,0.011505520686061088,0.012532689278769445,0.01356402747861235,0.014599510152339916,0.015639111460759934,0.016682804878645006,0.017730563214432442,0.018782358629726673,0.01983816265871812,0.020897946227261658,0.021961679671919348,0.02302933275875131,0.024100874701830997,0.025176274181690838],\"type\":\"scatter\"},{\"line\":{\"dash\":\"dash\"},\"mode\":\"lines\",\"name\":\"Sum of Power 2.0\",\"x\":{\"dtype\":\"f8\",\"bdata\":\"RcGEuA\\u002fM0z6qqVZ5+eHTPhCSKDrj99M+dXr6+swN1D7aYsy7tiPUPkBLnnygOdQ+pTNwPYpP1D4KHEL+c2XUPm8EFL9de9Q+1ezlf0eR1D461bdAMafUPp+9iQEbvdQ+BaZbwgTT1D5qji2D7ujUPs92\\u002f0PY\\u002ftQ+NV\\u002fRBMIU1T6aR6PFqyrVPv8vdYaVQNU+ZBhHR39W1T7KABkIaWzVPi\\u002fp6shSgtU+lNG8iTyY1T76uY5KJq7VPl+iYAsQxNU+xIoyzPnZ1T4qcwSN4+\\u002fVPo9b1k3NBdY+9EOoDrcb1j5aLHrPoDHWPr8UTJCKR9Y+JP0dUXRd1j6K5e8RXnPWPu\\u002fNwdJHidY+VLaTkzGf1j65nmVUG7XWPh+HNxUFy9Y+hG8J1u7g1j7pV9uW2PbWPk9ArVfCDNc+tCh\\u002fGKwi1z4ZEVHZlTjXPn75Ipp\\u002fTtc+5OH0Wmlk1z5JysYbU3rXPq6ymNw8kNc+FJtqnSam1z55gzxeELzXPt5rDh\\u002f60dc+RFTg3+Pn1z6pPLKgzf3XPg==\"},\"y\":[0.0005091965088676593,0.00047076940711665826,0.0004336651359000377,0.0003979063343565089,0.00036351591452914086,0.00033051704911235075,0.0002989331591867578,0.00026882877932563683,0.00024014374440747626,0.00021294532026837573,0.00018725779752316505,0.00016310565400660352,0.00014051354262854937,0.0001195062792781006,0.00010010883077476412,8.234630287494974e-05,6.624392834478907e-05,5.182705509810732e-05,3.912113441203972e-05,2.806749915996959e-05,1.887601613267725e-05,1.1471509484968709e-05,5.8797067492200605e-06,2.1263813266581513e-06,2.3734126621655455e-07,2.384181561372721e-07,2.1554561318868725e-06,6.014301005799613e-06,1.1840789522635539e-05,1.966073874490263e-05,2.9499935573191055e-05,4.1384126403196885e-05,5.533900692689857e-05,7.13902120762697e-05,8.956330611858263e-05,0.00010988377290203136,0.0001323770062573796,0.00015706830055818257,0.00018398284144055093,0.00021314569668827628,0.0002445818072820727,0.00027831597861894164,0.00031437287190098483,0.00035277699569566796,0.000393552697673758,0.0004367241565175198,0.0004823153740119955,0.0005303501673132962,0.0005808521613933574,0.0006338447816716728],\"type\":\"scatter\"}],                        {\"template\":{\"data\":{\"histogram2dcontour\":[{\"type\":\"histogram2dcontour\",\"colorbar\":{\"outlinewidth\":0,\"ticks\":\"\"},\"colorscale\":[[0.0,\"#0d0887\"],[0.1111111111111111,\"#46039f\"],[0.2222222222222222,\"#7201a8\"],[0.3333333333333333,\"#9c179e\"],[0.4444444444444444,\"#bd3786\"],[0.5555555555555556,\"#d8576b\"],[0.6666666666666666,\"#ed7953\"],[0.7777777777777778,\"#fb9f3a\"],[0.8888888888888888,\"#fdca26\"],[1.0,\"#f0f921\"]]}],\"choropleth\":[{\"type\":\"choropleth\",\"colorbar\":{\"outlinewidth\":0,\"ticks\":\"\"}}],\"histogram2d\":[{\"type\":\"histogram2d\",\"colorbar\":{\"outlinewidth\":0,\"ticks\":\"\"},\"colorscale\":[[0.0,\"#0d0887\"],[0.1111111111111111,\"#46039f\"],[0.2222222222222222,\"#7201a8\"],[0.3333333333333333,\"#9c179e\"],[0.4444444444444444,\"#bd3786\"],[0.5555555555555556,\"#d8576b\"],[0.6666666666666666,\"#ed7953\"],[0.7777777777777778,\"#fb9f3a\"],[0.8888888888888888,\"#fdca26\"],[1.0,\"#f0f921\"]]}],\"heatmap\":[{\"type\":\"heatmap\",\"colorbar\":{\"outlinewidth\":0,\"ticks\":\"\"},\"colorscale\":[[0.0,\"#0d0887\"],[0.1111111111111111,\"#46039f\"],[0.2222222222222222,\"#7201a8\"],[0.3333333333333333,\"#9c179e\"],[0.4444444444444444,\"#bd3786\"],[0.5555555555555556,\"#d8576b\"],[0.6666666666666666,\"#ed7953\"],[0.7777777777777778,\"#fb9f3a\"],[0.8888888888888888,\"#fdca26\"],[1.0,\"#f0f921\"]]}],\"contourcarpet\":[{\"type\":\"contourcarpet\",\"colorbar\":{\"outlinewidth\":0,\"ticks\":\"\"}}],\"contour\":[{\"type\":\"contour\",\"colorbar\":{\"outlinewidth\":0,\"ticks\":\"\"},\"colorscale\":[[0.0,\"#0d0887\"],[0.1111111111111111,\"#46039f\"],[0.2222222222222222,\"#7201a8\"],[0.3333333333333333,\"#9c179e\"],[0.4444444444444444,\"#bd3786\"],[0.5555555555555556,\"#d8576b\"],[0.6666666666666666,\"#ed7953\"],[0.7777777777777778,\"#fb9f3a\"],[0.8888888888888888,\"#fdca26\"],[1.0,\"#f0f921\"]]}],\"surface\":[{\"type\":\"surface\",\"colorbar\":{\"outlinewidth\":0,\"ticks\":\"\"},\"colorscale\":[[0.0,\"#0d0887\"],[0.1111111111111111,\"#46039f\"],[0.2222222222222222,\"#7201a8\"],[0.3333333333333333,\"#9c179e\"],[0.4444444444444444,\"#bd3786\"],[0.5555555555555556,\"#d8576b\"],[0.6666666666666666,\"#ed7953\"],[0.7777777777777778,\"#fb9f3a\"],[0.8888888888888888,\"#fdca26\"],[1.0,\"#f0f921\"]]}],\"mesh3d\":[{\"type\":\"mesh3d\",\"colorbar\":{\"outlinewidth\":0,\"ticks\":\"\"}}],\"scatter\":[{\"fillpattern\":{\"fillmode\":\"overlay\",\"size\":10,\"solidity\":0.2},\"type\":\"scatter\"}],\"parcoords\":[{\"type\":\"parcoords\",\"line\":{\"colorbar\":{\"outlinewidth\":0,\"ticks\":\"\"}}}],\"scatterpolargl\":[{\"type\":\"scatterpolargl\",\"marker\":{\"colorbar\":{\"outlinewidth\":0,\"ticks\":\"\"}}}],\"bar\":[{\"error_x\":{\"color\":\"#2a3f5f\"},\"error_y\":{\"color\":\"#2a3f5f\"},\"marker\":{\"line\":{\"color\":\"#E5ECF6\",\"width\":0.5},\"pattern\":{\"fillmode\":\"overlay\",\"size\":10,\"solidity\":0.2}},\"type\":\"bar\"}],\"scattergeo\":[{\"type\":\"scattergeo\",\"marker\":{\"colorbar\":{\"outlinewidth\":0,\"ticks\":\"\"}}}],\"scatterpolar\":[{\"type\":\"scatterpolar\",\"marker\":{\"colorbar\":{\"outlinewidth\":0,\"ticks\":\"\"}}}],\"histogram\":[{\"marker\":{\"pattern\":{\"fillmode\":\"overlay\",\"size\":10,\"solidity\":0.2}},\"type\":\"histogram\"}],\"scattergl\":[{\"type\":\"scattergl\",\"marker\":{\"colorbar\":{\"outlinewidth\":0,\"ticks\":\"\"}}}],\"scatter3d\":[{\"type\":\"scatter3d\",\"line\":{\"colorbar\":{\"outlinewidth\":0,\"ticks\":\"\"}},\"marker\":{\"colorbar\":{\"outlinewidth\":0,\"ticks\":\"\"}}}],\"scattermap\":[{\"type\":\"scattermap\",\"marker\":{\"colorbar\":{\"outlinewidth\":0,\"ticks\":\"\"}}}],\"scattermapbox\":[{\"type\":\"scattermapbox\",\"marker\":{\"colorbar\":{\"outlinewidth\":0,\"ticks\":\"\"}}}],\"scatterternary\":[{\"type\":\"scatterternary\",\"marker\":{\"colorbar\":{\"outlinewidth\":0,\"ticks\":\"\"}}}],\"scattercarpet\":[{\"type\":\"scattercarpet\",\"marker\":{\"colorbar\":{\"outlinewidth\":0,\"ticks\":\"\"}}}],\"carpet\":[{\"aaxis\":{\"endlinecolor\":\"#2a3f5f\",\"gridcolor\":\"white\",\"linecolor\":\"white\",\"minorgridcolor\":\"white\",\"startlinecolor\":\"#2a3f5f\"},\"baxis\":{\"endlinecolor\":\"#2a3f5f\",\"gridcolor\":\"white\",\"linecolor\":\"white\",\"minorgridcolor\":\"white\",\"startlinecolor\":\"#2a3f5f\"},\"type\":\"carpet\"}],\"table\":[{\"cells\":{\"fill\":{\"color\":\"#EBF0F8\"},\"line\":{\"color\":\"white\"}},\"header\":{\"fill\":{\"color\":\"#C8D4E3\"},\"line\":{\"color\":\"white\"}},\"type\":\"table\"}],\"barpolar\":[{\"marker\":{\"line\":{\"color\":\"#E5ECF6\",\"width\":0.5},\"pattern\":{\"fillmode\":\"overlay\",\"size\":10,\"solidity\":0.2}},\"type\":\"barpolar\"}],\"pie\":[{\"automargin\":true,\"type\":\"pie\"}]},\"layout\":{\"autotypenumbers\":\"strict\",\"colorway\":[\"#636efa\",\"#EF553B\",\"#00cc96\",\"#ab63fa\",\"#FFA15A\",\"#19d3f3\",\"#FF6692\",\"#B6E880\",\"#FF97FF\",\"#FECB52\"],\"font\":{\"color\":\"#2a3f5f\"},\"hovermode\":\"closest\",\"hoverlabel\":{\"align\":\"left\"},\"paper_bgcolor\":\"white\",\"plot_bgcolor\":\"#E5ECF6\",\"polar\":{\"bgcolor\":\"#E5ECF6\",\"angularaxis\":{\"gridcolor\":\"white\",\"linecolor\":\"white\",\"ticks\":\"\"},\"radialaxis\":{\"gridcolor\":\"white\",\"linecolor\":\"white\",\"ticks\":\"\"}},\"ternary\":{\"bgcolor\":\"#E5ECF6\",\"aaxis\":{\"gridcolor\":\"white\",\"linecolor\":\"white\",\"ticks\":\"\"},\"baxis\":{\"gridcolor\":\"white\",\"linecolor\":\"white\",\"ticks\":\"\"},\"caxis\":{\"gridcolor\":\"white\",\"linecolor\":\"white\",\"ticks\":\"\"}},\"coloraxis\":{\"colorbar\":{\"outlinewidth\":0,\"ticks\":\"\"}},\"colorscale\":{\"sequential\":[[0.0,\"#0d0887\"],[0.1111111111111111,\"#46039f\"],[0.2222222222222222,\"#7201a8\"],[0.3333333333333333,\"#9c179e\"],[0.4444444444444444,\"#bd3786\"],[0.5555555555555556,\"#d8576b\"],[0.6666666666666666,\"#ed7953\"],[0.7777777777777778,\"#fb9f3a\"],[0.8888888888888888,\"#fdca26\"],[1.0,\"#f0f921\"]],\"sequentialminus\":[[0.0,\"#0d0887\"],[0.1111111111111111,\"#46039f\"],[0.2222222222222222,\"#7201a8\"],[0.3333333333333333,\"#9c179e\"],[0.4444444444444444,\"#bd3786\"],[0.5555555555555556,\"#d8576b\"],[0.6666666666666666,\"#ed7953\"],[0.7777777777777778,\"#fb9f3a\"],[0.8888888888888888,\"#fdca26\"],[1.0,\"#f0f921\"]],\"diverging\":[[0,\"#8e0152\"],[0.1,\"#c51b7d\"],[0.2,\"#de77ae\"],[0.3,\"#f1b6da\"],[0.4,\"#fde0ef\"],[0.5,\"#f7f7f7\"],[0.6,\"#e6f5d0\"],[0.7,\"#b8e186\"],[0.8,\"#7fbc41\"],[0.9,\"#4d9221\"],[1,\"#276419\"]]},\"xaxis\":{\"gridcolor\":\"white\",\"linecolor\":\"white\",\"ticks\":\"\",\"title\":{\"standoff\":15},\"zerolinecolor\":\"white\",\"automargin\":true,\"zerolinewidth\":2},\"yaxis\":{\"gridcolor\":\"white\",\"linecolor\":\"white\",\"ticks\":\"\",\"title\":{\"standoff\":15},\"zerolinecolor\":\"white\",\"automargin\":true,\"zerolinewidth\":2},\"scene\":{\"xaxis\":{\"backgroundcolor\":\"#E5ECF6\",\"gridcolor\":\"white\",\"linecolor\":\"white\",\"showbackground\":true,\"ticks\":\"\",\"zerolinecolor\":\"white\",\"gridwidth\":2},\"yaxis\":{\"backgroundcolor\":\"#E5ECF6\",\"gridcolor\":\"white\",\"linecolor\":\"white\",\"showbackground\":true,\"ticks\":\"\",\"zerolinecolor\":\"white\",\"gridwidth\":2},\"zaxis\":{\"backgroundcolor\":\"#E5ECF6\",\"gridcolor\":\"white\",\"linecolor\":\"white\",\"showbackground\":true,\"ticks\":\"\",\"zerolinecolor\":\"white\",\"gridwidth\":2}},\"shapedefaults\":{\"line\":{\"color\":\"#2a3f5f\"}},\"annotationdefaults\":{\"arrowcolor\":\"#2a3f5f\",\"arrowhead\":0,\"arrowwidth\":1},\"geo\":{\"bgcolor\":\"white\",\"landcolor\":\"#E5ECF6\",\"subunitcolor\":\"white\",\"showland\":true,\"showlakes\":true,\"lakecolor\":\"white\"},\"title\":{\"x\":0.05},\"mapbox\":{\"style\":\"light\"}}},\"yaxis\":{\"range\":[0,0.3]}},                        {\"responsive\": true}                    ).then(function(){\n",
       "                            \n",
       "var gd = document.getElementById('37a026f7-a6ee-46f2-b723-b3416b8727d5');\n",
       "var x = new MutationObserver(function (mutations, observer) {{\n",
       "        var display = window.getComputedStyle(gd).display;\n",
       "        if (!display || display === 'none') {{\n",
       "            console.log([gd, 'removed!']);\n",
       "            Plotly.purge(gd);\n",
       "            observer.disconnect();\n",
       "        }}\n",
       "}});\n",
       "\n",
       "// Listen for the removal of the full notebook cells\n",
       "var notebookContainer = gd.closest('#notebook-container');\n",
       "if (notebookContainer) {{\n",
       "    x.observe(notebookContainer, {childList: true});\n",
       "}}\n",
       "\n",
       "// Listen for the clearing of the current output cell\n",
       "var outputEl = gd.closest('.output');\n",
       "if (outputEl) {{\n",
       "    x.observe(outputEl, {childList: true});\n",
       "}}\n",
       "\n",
       "                        })                };            </script>        </div>"
      ]
     },
     "metadata": {},
     "output_type": "display_data"
    }
   ],
   "source": [
    "fig = go.Figure()\n",
    "for k, _ in enumerate(p_orders):\n",
    "    fig.add_trace(\n",
    "        go.Scatter(x=x_range, y=y_minkowski[k], mode=\"lines\", name=f\"Minkowski {_}\")\n",
    "    )\n",
    "    fig.add_trace(\n",
    "        go.Scatter(\n",
    "            x=x_range,\n",
    "            y=y_sumofpower[k],\n",
    "            mode=\"lines\",\n",
    "            line=dict(dash=\"dash\"),\n",
    "            name=f\"Sum of Power {_}\",\n",
    "        )\n",
    "    )\n",
    "fig.update_yaxes(range=[0, 0.3])\n",
    "fig.show()"
   ]
  },
  {
   "cell_type": "markdown",
   "metadata": {},
   "source": [
    "The figure demonstrates the distinct behaviour of the `Minkowski` distance and the `SumOfPower` function. One notable difference is the effect of the `1/p` exponent in the `Minkowski` distance, which has a linearising impact on the response. This linearisation can enhance the robustness of certain optimisation algorithms, potentially making them less sensitive to outliers or extreme values. However, this increased robustness may come at the cost of a slower convergence rate, as the linearised response might require more iterations to reach the optimal solution. In contrast, the `SumOfPower` function does not exhibit this linearising effect, which can lead to faster convergence in some cases but may be more susceptible to the influence of outliers or extreme values.\n",
    "\n",
    "In this notebook, we've shown the different fitting cost functions offered in PyBOP. Selection between these functions can affect the optimisation result in the case that the optimiser hyperparameter values are not properly calibrated. "
   ]
  }
 ],
 "metadata": {
  "kernelspec": {
   "display_name": "pybop-3.12",
   "language": "python",
   "name": "python3"
  },
  "language_info": {
   "codemirror_mode": {
    "name": "ipython",
    "version": 3
   },
   "file_extension": ".py",
   "mimetype": "text/x-python",
   "name": "python",
   "nbconvert_exporter": "python",
   "pygments_lexer": "ipython3",
   "version": "3.12.4"
  }
 },
 "nbformat": 4,
 "nbformat_minor": 2
}
